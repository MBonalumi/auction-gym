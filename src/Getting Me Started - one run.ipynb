{
 "cells": [
  {
   "attachments": {},
   "cell_type": "markdown",
   "id": "47a55e28",
   "metadata": {},
   "source": [
    "# Getting Started with AuctionGym\n",
    "## My Experiments Run"
   ]
  },
  {
   "cell_type": "code",
   "execution_count": 1,
   "id": "8dac1ebf",
   "metadata": {},
   "outputs": [],
   "source": [
    "import matplotlib.pyplot as plt\n",
    "import numpy as np\n",
    "from collections import defaultdict\n",
    "from main import parse_config, instantiate_agents, instantiate_auction, simulation_run\n",
    "from tqdm.notebook import tqdm"
   ]
  },
  {
   "cell_type": "code",
   "execution_count": 2,
   "id": "26c045e9",
   "metadata": {},
   "outputs": [
    {
     "name": "stdout",
     "output_type": "stream",
     "text": [
      "tqdm\n",
      "sys\n"
     ]
    }
   ],
   "source": [
    "import sys\n",
    "modulenames = set(sys.modules) & set(globals())\n",
    "allmodules = [sys.modules[name] for name in modulenames]\n",
    "for module in allmodules:\n",
    "    print(module.__name__)"
   ]
  },
  {
   "cell_type": "code",
   "execution_count": 3,
   "id": "b4c80200",
   "metadata": {},
   "outputs": [],
   "source": [
    "config_file = '../config-mine/FP_Epsilon-average-out-results-test.json'\n",
    "\n",
    "graph_title = config_file"
   ]
  },
  {
   "cell_type": "code",
   "execution_count": 4,
   "id": "a9b5f14c",
   "metadata": {},
   "outputs": [
    {
     "name": "stdout",
     "output_type": "stream",
     "text": [
      "--- My Agents ---\n",
      "['1. EpsilonGreedy Bidder', '2. DM (policy)', '3. Shaded Bidder']\n",
      "\n",
      "--- Runs Number ---\n",
      "making 4 runs.\n",
      "For each, 100 iterations, each for 10 episodes.\n",
      "\t\t -> total: 4000\n"
     ]
    }
   ],
   "source": [
    "# Parse configuration file\n",
    "rng, config, agent_configs, agents2items, agents2item_values,\\\n",
    "num_runs, max_slots, embedding_size, embedding_var,\\\n",
    "obs_embedding_size = parse_config(config_file)\n",
    "\n",
    "print('--- My Agents ---')\n",
    "\n",
    "my_agents_names = []\n",
    "\n",
    "i=0\n",
    "for agent in config['agents']:\n",
    "    for copies in range(agent['num_copies']):\n",
    "        i+=1\n",
    "        # my_agents_names.append(f'{i}.{agent[\"bidder\"][\"type\"]} ({agent[\"name\"]})')\n",
    "        my_agents_names.append(f'{i}. {agent[\"name\"]}')\n",
    "        # print(f'{i}) {agent[\"bidder\"][\"type\"]}')\n",
    "print(my_agents_names)\n",
    "\n",
    "print()\n",
    "print('--- Runs Number ---')\n",
    "print(f\"making {config['num_runs']} runs.\\nFor each, {config['num_iter']} iterations, each for {config['rounds_per_iter']} episodes.\")\n",
    "print(f\"\\t\\t -> total: {config['num_runs']*config['num_iter']*config['rounds_per_iter']}\")"
   ]
  },
  {
   "cell_type": "code",
   "execution_count": 5,
   "id": "f873a95c",
   "metadata": {},
   "outputs": [],
   "source": [
    "def run_repeated_auctions():\n",
    "    # Placeholders for output\n",
    "    auction_revenue = []\n",
    "    social_welfare = []\n",
    "    cumulative_surplus = []\n",
    "    \n",
    "    # Instantiate Agent and Auction objects\n",
    "    agents = instantiate_agents(rng, agent_configs, agents2item_values, agents2items)\n",
    "    \n",
    "    agents_surplus = [[] for _ in range(len(agents))]\n",
    "\n",
    "    # Instantiate Auction object\n",
    "    auction, num_iter, rounds_per_iter, output_dir =\\\n",
    "        instantiate_auction(rng,\n",
    "                            config,\n",
    "                            agents2items,\n",
    "                            agents2item_values,\n",
    "                            agents,\n",
    "                            max_slots,\n",
    "                            embedding_size,\n",
    "                            embedding_var,\n",
    "                            obs_embedding_size)\n",
    "\n",
    "    # Run repeated auctions\n",
    "    # This logic is encoded in the `simulation_run()` method in main.py\n",
    "    for i in tqdm(range(num_iter)):\n",
    "        print(f'Iteration {i+1} of {num_iter}')\n",
    "\n",
    "        # Simulate impression opportunities\n",
    "        for _ in range(rounds_per_iter):\n",
    "            auction.simulate_opportunity()\n",
    "\n",
    "        # Log 'Gross utility' or welfare\n",
    "        social_welfare.append(sum([agent.gross_utility for agent in auction.agents]))\n",
    "\n",
    "        # Log 'Net utility' or surplus\n",
    "        cumulative_surplus.append(sum([agent.net_utility for agent in auction.agents]))\n",
    "        for agent_id, agent in enumerate(auction.agents):\n",
    "            agents_surplus[agent_id].append(agent.net_utility)\n",
    "        \n",
    "        last_surplus = [surplus[-1] for surplus in agents_surplus]\n",
    "        print(f\"\\teach agent's surplus: {last_surplus}\")\n",
    "        print(f\"\\tsums to {np.array(last_surplus).sum()}\")\n",
    "        # print(f\"\\tshould be equal to {cumulative_surplus[-1]}\")\n",
    "        # print(f\"\\t\\t{(np.array(last_surplus).sum() == cumulative_surplus[-1])}\")\n",
    "        \n",
    "        # Update agents (does nothing in this example, as we have truthful oracles)\n",
    "        # Clear running metrics\n",
    "        for agent_id, agent in enumerate(auction.agents):\n",
    "            if(len(agent.logs)>0):\n",
    "                print(f'\\t agent update: {my_agents_names[agent_id]}')\n",
    "                agent.update(iteration=i)\n",
    "                agent.clear_utility()\n",
    "                agent.clear_logs()\n",
    "\n",
    "        # Log revenue\n",
    "        auction_revenue.append(auction.revenue)\n",
    "        auction.clear_revenue()\n",
    "        \n",
    "    # Rescale metrics per auction round\n",
    "    auction_revenue = np.array(auction_revenue) / rounds_per_iter\n",
    "    social_welfare = np.array(social_welfare) / rounds_per_iter\n",
    "    cumulative_surplus = np.array(cumulative_surplus) / rounds_per_iter\n",
    "    \n",
    "    return auction_revenue, social_welfare, cumulative_surplus, agents_surplus"
   ]
  },
  {
   "cell_type": "code",
   "execution_count": 6,
   "id": "31e54125",
   "metadata": {},
   "outputs": [
    {
     "data": {
      "application/json": {
       "ascii": false,
       "bar_format": null,
       "colour": null,
       "elapsed": 0.012268304824829102,
       "initial": 0,
       "n": 0,
       "ncols": null,
       "nrows": null,
       "postfix": null,
       "prefix": "",
       "rate": null,
       "total": 100,
       "unit": "it",
       "unit_divisor": 1000,
       "unit_scale": false
      },
      "application/vnd.jupyter.widget-view+json": {
       "model_id": "192e1a11df034ea2859fd8e67ace8356",
       "version_major": 2,
       "version_minor": 0
      },
      "text/plain": [
       "  0%|          | 0/100 [00:00<?, ?it/s]"
      ]
     },
     "metadata": {},
     "output_type": "display_data"
    },
    {
     "name": "stdout",
     "output_type": "stream",
     "text": [
      "Iteration 1 of 100\n",
      "\teach agent's surplus: [-1.4506484867863714, -0.5392156249882164, -0.952713598514347]\n",
      "\tsums to -2.942577710288935\n",
      "\t agent update: 1. EpsilonGreedy Bidder\n",
      "\t agent update: 2. DM (policy)\n"
     ]
    },
    {
     "name": "stderr",
     "output_type": "stream",
     "text": [
      "DM (policy) 2: 100%|██████████| 128/128 [00:00<00:00, 206.23it/s]\n"
     ]
    },
    {
     "name": "stdout",
     "output_type": "stream",
     "text": [
      "AUC predicting P(win):\t\t\t\t 0.28571428571428575\n"
     ]
    },
    {
     "name": "stderr",
     "output_type": "stream",
     "text": [
      "DM (policy) 2: 100%|██████████| 128/128 [00:00<00:00, 334.67it/s]\n"
     ]
    },
    {
     "name": "stdout",
     "output_type": "stream",
     "text": [
      "\t agent update: 3. Shaded Bidder\n",
      "Iteration 2 of 100\n",
      "\teach agent's surplus: [-3.3918124222547856, 0.0, 1.5425791665733075]\n",
      "\tsums to -1.8492332556814781\n",
      "\t agent update: 1. EpsilonGreedy Bidder\n",
      "\t agent update: 2. DM (policy)\n",
      "! Fallback for DM (policy) 2\n",
      "\t agent update: 3. Shaded Bidder\n",
      "Iteration 3 of 100\n",
      "\teach agent's surplus: [0.0, -2.1740879805609197, -0.6608859232090517]\n",
      "\tsums to -2.8349739037699715\n",
      "\t agent update: 1. EpsilonGreedy Bidder\n",
      "\t agent update: 2. DM (policy)\n"
     ]
    },
    {
     "name": "stderr",
     "output_type": "stream",
     "text": [
      "DM (policy) 2: 100%|██████████| 128/128 [00:00<00:00, 1170.44it/s]\n"
     ]
    },
    {
     "name": "stdout",
     "output_type": "stream",
     "text": [
      "AUC predicting P(win):\t\t\t\t 0.0\n"
     ]
    },
    {
     "name": "stderr",
     "output_type": "stream",
     "text": [
      "DM (policy) 2: 100%|██████████| 128/128 [00:00<00:00, 364.13it/s]\n"
     ]
    },
    {
     "name": "stdout",
     "output_type": "stream",
     "text": [
      "\t agent update: 3. Shaded Bidder\n",
      "Iteration 4 of 100\n",
      "\teach agent's surplus: [0.20514660111912542, -0.6425689355400601, 0.2015028124177583]\n",
      "\tsums to -0.2359195220031764\n",
      "\t agent update: 1. EpsilonGreedy Bidder\n",
      "\t agent update: 2. DM (policy)\n"
     ]
    },
    {
     "name": "stderr",
     "output_type": "stream",
     "text": [
      "DM (policy) 2: 100%|██████████| 128/128 [00:00<00:00, 1001.72it/s]\n"
     ]
    },
    {
     "name": "stdout",
     "output_type": "stream",
     "text": [
      "AUC predicting P(win):\t\t\t\t 0.6666666666666667\n"
     ]
    },
    {
     "name": "stderr",
     "output_type": "stream",
     "text": [
      "DM (policy) 2: 100%|██████████| 128/128 [00:00<00:00, 347.90it/s]\n"
     ]
    },
    {
     "name": "stdout",
     "output_type": "stream",
     "text": [
      "Epoch 00122: reducing learning rate of group 0 to 2.0000e-04.\n",
      "\t agent update: 3. Shaded Bidder\n",
      "Iteration 5 of 100\n",
      "\teach agent's surplus: [-0.9552849008530373, 1.8275893567815054, -0.26609985882649734]\n",
      "\tsums to 0.6062045971019707\n",
      "\t agent update: 1. EpsilonGreedy Bidder\n",
      "\t agent update: 2. DM (policy)\n"
     ]
    },
    {
     "name": "stderr",
     "output_type": "stream",
     "text": [
      "DM (policy) 2: 100%|██████████| 128/128 [00:00<00:00, 1328.66it/s]\n"
     ]
    },
    {
     "name": "stdout",
     "output_type": "stream",
     "text": [
      "AUC predicting P(win):\t\t\t\t 0.7619047619047619\n"
     ]
    },
    {
     "name": "stderr",
     "output_type": "stream",
     "text": [
      "DM (policy) 2: 100%|██████████| 128/128 [00:00<00:00, 359.68it/s]\n"
     ]
    },
    {
     "name": "stdout",
     "output_type": "stream",
     "text": [
      "\t agent update: 3. Shaded Bidder\n",
      "Iteration 6 of 100\n",
      "\teach agent's surplus: [0.0, 0.8207125041434417, 2.2613275525479226]\n",
      "\tsums to 3.082040056691364\n",
      "\t agent update: 1. EpsilonGreedy Bidder\n",
      "\t agent update: 2. DM (policy)\n"
     ]
    },
    {
     "name": "stderr",
     "output_type": "stream",
     "text": [
      "DM (policy) 2: 100%|██████████| 128/128 [00:00<00:00, 1287.82it/s]\n"
     ]
    },
    {
     "name": "stdout",
     "output_type": "stream",
     "text": [
      "AUC predicting P(win):\t\t\t\t 0.7777777777777778\n"
     ]
    },
    {
     "name": "stderr",
     "output_type": "stream",
     "text": [
      "DM (policy) 2: 100%|██████████| 128/128 [00:00<00:00, 352.54it/s]\n"
     ]
    },
    {
     "name": "stdout",
     "output_type": "stream",
     "text": [
      "\t agent update: 3. Shaded Bidder\n",
      "Iteration 7 of 100\n",
      "\teach agent's surplus: [-0.15, 0.0, -2.617948569746829]\n",
      "\tsums to -2.767948569746829\n",
      "\t agent update: 1. EpsilonGreedy Bidder\n",
      "\t agent update: 2. DM (policy)\n",
      "! Fallback for DM (policy) 2\n",
      "\t agent update: 3. Shaded Bidder\n",
      "Iteration 8 of 100\n",
      "\teach agent's surplus: [0.0, -0.24701830476646008, 3.4712807049611905]\n",
      "\tsums to 3.22426240019473\n",
      "\t agent update: 1. EpsilonGreedy Bidder\n",
      "\t agent update: 2. DM (policy)\n"
     ]
    },
    {
     "name": "stderr",
     "output_type": "stream",
     "text": [
      "DM (policy) 2: 100%|██████████| 128/128 [00:00<00:00, 1203.19it/s]\n"
     ]
    },
    {
     "name": "stdout",
     "output_type": "stream",
     "text": [
      "AUC predicting P(win):\t\t\t\t 0.5833333333333334\n"
     ]
    },
    {
     "name": "stderr",
     "output_type": "stream",
     "text": [
      "DM (policy) 2: 100%|██████████| 128/128 [00:00<00:00, 340.69it/s]\n"
     ]
    },
    {
     "name": "stdout",
     "output_type": "stream",
     "text": [
      "\t agent update: 3. Shaded Bidder\n",
      "Iteration 9 of 100\n",
      "\teach agent's surplus: [0.0, 0.0, -0.386549626033041]\n",
      "\tsums to -0.386549626033041\n",
      "\t agent update: 1. EpsilonGreedy Bidder\n",
      "\t agent update: 2. DM (policy)\n",
      "! Fallback for DM (policy) 2\n",
      "\t agent update: 3. Shaded Bidder\n",
      "Iteration 10 of 100\n",
      "\teach agent's surplus: [0.0, -2.0872834164433502, 0.1689107592562451]\n",
      "\tsums to -1.9183726571871051\n",
      "\t agent update: 1. EpsilonGreedy Bidder\n",
      "\t agent update: 2. DM (policy)\n"
     ]
    },
    {
     "name": "stderr",
     "output_type": "stream",
     "text": [
      "DM (policy) 2: 100%|██████████| 128/128 [00:00<00:00, 1022.47it/s]\n"
     ]
    },
    {
     "name": "stdout",
     "output_type": "stream",
     "text": [
      "AUC predicting P(win):\t\t\t\t 0.4285714285714286\n"
     ]
    },
    {
     "name": "stderr",
     "output_type": "stream",
     "text": [
      "DM (policy) 2: 100%|██████████| 128/128 [00:00<00:00, 272.24it/s]\n"
     ]
    },
    {
     "name": "stdout",
     "output_type": "stream",
     "text": [
      "Epoch 00109: reducing learning rate of group 0 to 2.0000e-04.\n",
      "\t agent update: 3. Shaded Bidder\n",
      "Iteration 11 of 100\n",
      "\teach agent's surplus: [0.0, 0.8027086770119642, 0.16259088607205174]\n",
      "\tsums to 0.965299563084016\n",
      "\t agent update: 1. EpsilonGreedy Bidder\n",
      "\t agent update: 2. DM (policy)\n"
     ]
    },
    {
     "name": "stderr",
     "output_type": "stream",
     "text": [
      "DM (policy) 2: 100%|██████████| 128/128 [00:00<00:00, 1171.62it/s]\n"
     ]
    },
    {
     "name": "stdout",
     "output_type": "stream",
     "text": [
      "AUC predicting P(win):\t\t\t\t 0.8888888888888888\n"
     ]
    },
    {
     "name": "stderr",
     "output_type": "stream",
     "text": [
      "DM (policy) 2: 100%|██████████| 128/128 [00:00<00:00, 329.08it/s]\n"
     ]
    },
    {
     "name": "stdout",
     "output_type": "stream",
     "text": [
      "\t agent update: 3. Shaded Bidder\n",
      "Iteration 12 of 100\n",
      "\teach agent's surplus: [0.0, 0.0, 2.0832059055928034]\n",
      "\tsums to 2.0832059055928034\n",
      "\t agent update: 1. EpsilonGreedy Bidder\n",
      "\t agent update: 2. DM (policy)\n",
      "! Fallback for DM (policy) 2\n",
      "\t agent update: 3. Shaded Bidder\n",
      "Iteration 13 of 100\n",
      "\teach agent's surplus: [-1.4, -0.9521858135813954, -1.5876559947943722]\n",
      "\tsums to -3.9398418083757676\n",
      "\t agent update: 1. EpsilonGreedy Bidder\n",
      "\t agent update: 2. DM (policy)\n"
     ]
    },
    {
     "name": "stderr",
     "output_type": "stream",
     "text": [
      "DM (policy) 2: 100%|██████████| 128/128 [00:00<00:00, 1315.54it/s]\n"
     ]
    },
    {
     "name": "stdout",
     "output_type": "stream",
     "text": [
      "AUC predicting P(win):\t\t\t\t 0.32\n"
     ]
    },
    {
     "name": "stderr",
     "output_type": "stream",
     "text": [
      "DM (policy) 2: 100%|██████████| 128/128 [00:00<00:00, 366.02it/s]\n"
     ]
    },
    {
     "name": "stdout",
     "output_type": "stream",
     "text": [
      "\t agent update: 3. Shaded Bidder\n",
      "Iteration 14 of 100\n",
      "\teach agent's surplus: [0.0, 0.0, 3.1036130110413724]\n",
      "\tsums to 3.1036130110413724\n",
      "\t agent update: 1. EpsilonGreedy Bidder\n",
      "\t agent update: 2. DM (policy)\n",
      "! Fallback for DM (policy) 2\n",
      "\t agent update: 3. Shaded Bidder\n",
      "Iteration 15 of 100\n",
      "\teach agent's surplus: [0.0, 1.391764252205964, -0.4060788853431835]\n",
      "\tsums to 0.9856853668627804\n",
      "\t agent update: 1. EpsilonGreedy Bidder\n",
      "\t agent update: 2. DM (policy)\n"
     ]
    },
    {
     "name": "stderr",
     "output_type": "stream",
     "text": [
      "DM (policy) 2: 100%|██████████| 128/128 [00:00<00:00, 1313.14it/s]\n"
     ]
    },
    {
     "name": "stdout",
     "output_type": "stream",
     "text": [
      "AUC predicting P(win):\t\t\t\t 0.47619047619047616\n"
     ]
    },
    {
     "name": "stderr",
     "output_type": "stream",
     "text": [
      "DM (policy) 2: 100%|██████████| 128/128 [00:00<00:00, 361.70it/s]\n"
     ]
    },
    {
     "name": "stdout",
     "output_type": "stream",
     "text": [
      "\t agent update: 3. Shaded Bidder\n",
      "Iteration 16 of 100\n",
      "\teach agent's surplus: [0.0, 0.0, -0.558654569085951]\n",
      "\tsums to -0.558654569085951\n",
      "\t agent update: 1. EpsilonGreedy Bidder\n",
      "\t agent update: 2. DM (policy)\n",
      "! Fallback for DM (policy) 2\n",
      "\t agent update: 3. Shaded Bidder\n",
      "Iteration 17 of 100\n",
      "\teach agent's surplus: [0.0, 1.0490106902880174, -0.2801732431337595]\n",
      "\tsums to 0.7688374471542578\n",
      "\t agent update: 1. EpsilonGreedy Bidder\n",
      "\t agent update: 2. DM (policy)\n"
     ]
    },
    {
     "name": "stderr",
     "output_type": "stream",
     "text": [
      "DM (policy) 2: 100%|██████████| 128/128 [00:00<00:00, 1301.75it/s]\n"
     ]
    },
    {
     "name": "stdout",
     "output_type": "stream",
     "text": [
      "AUC predicting P(win):\t\t\t\t 0.5714285714285714\n"
     ]
    },
    {
     "name": "stderr",
     "output_type": "stream",
     "text": [
      "DM (policy) 2: 100%|██████████| 128/128 [00:00<00:00, 256.98it/s]\n"
     ]
    },
    {
     "name": "stdout",
     "output_type": "stream",
     "text": [
      "\t agent update: 3. Shaded Bidder\n",
      "Iteration 18 of 100\n",
      "\teach agent's surplus: [0.0, 0.0, 2.569111914386535]\n",
      "\tsums to 2.569111914386535\n",
      "\t agent update: 1. EpsilonGreedy Bidder\n",
      "\t agent update: 2. DM (policy)\n",
      "! Fallback for DM (policy) 2\n",
      "\t agent update: 3. Shaded Bidder\n",
      "Iteration 19 of 100\n",
      "\teach agent's surplus: [0.0, -0.6039707567029241, 2.336559521509775]\n",
      "\tsums to 1.732588764806851\n",
      "\t agent update: 1. EpsilonGreedy Bidder\n",
      "\t agent update: 2. DM (policy)\n"
     ]
    },
    {
     "name": "stderr",
     "output_type": "stream",
     "text": [
      "DM (policy) 2: 100%|██████████| 128/128 [00:00<00:00, 1288.73it/s]\n"
     ]
    },
    {
     "name": "stdout",
     "output_type": "stream",
     "text": [
      "AUC predicting P(win):\t\t\t\t 0.33333333333333337\n"
     ]
    },
    {
     "name": "stderr",
     "output_type": "stream",
     "text": [
      "DM (policy) 2: 100%|██████████| 128/128 [00:00<00:00, 212.04it/s]\n"
     ]
    },
    {
     "name": "stdout",
     "output_type": "stream",
     "text": [
      "\t agent update: 3. Shaded Bidder\n",
      "Iteration 20 of 100\n",
      "\teach agent's surplus: [0.0, -0.33814717654708826, -0.17951703366039184]\n",
      "\tsums to -0.5176642102074801\n",
      "\t agent update: 1. EpsilonGreedy Bidder\n",
      "\t agent update: 2. DM (policy)\n"
     ]
    },
    {
     "name": "stderr",
     "output_type": "stream",
     "text": [
      "DM (policy) 2: 100%|██████████| 128/128 [00:00<00:00, 591.31it/s]\n"
     ]
    },
    {
     "name": "stdout",
     "output_type": "stream",
     "text": [
      "AUC predicting P(win):\t\t\t\t 0.375\n"
     ]
    },
    {
     "name": "stderr",
     "output_type": "stream",
     "text": [
      "DM (policy) 2: 100%|██████████| 128/128 [00:00<00:00, 289.30it/s]\n"
     ]
    },
    {
     "name": "stdout",
     "output_type": "stream",
     "text": [
      "\t agent update: 3. Shaded Bidder\n",
      "Iteration 21 of 100\n",
      "\teach agent's surplus: [0.0, -0.08325443952829398, 0.9173268600330866]\n",
      "\tsums to 0.8340724205047927\n",
      "\t agent update: 1. EpsilonGreedy Bidder\n",
      "\t agent update: 2. DM (policy)\n"
     ]
    },
    {
     "name": "stderr",
     "output_type": "stream",
     "text": [
      "DM (policy) 2: 100%|██████████| 128/128 [00:00<00:00, 925.75it/s]\n"
     ]
    },
    {
     "name": "stdout",
     "output_type": "stream",
     "text": [
      "AUC predicting P(win):\t\t\t\t 0.4444444444444444\n"
     ]
    },
    {
     "name": "stderr",
     "output_type": "stream",
     "text": [
      "DM (policy) 2: 100%|██████████| 128/128 [00:00<00:00, 340.49it/s]\n"
     ]
    },
    {
     "name": "stdout",
     "output_type": "stream",
     "text": [
      "\t agent update: 3. Shaded Bidder\n",
      "Iteration 22 of 100\n",
      "\teach agent's surplus: [0.0, 0.43339071502331844, -1.1333357411167788]\n",
      "\tsums to -0.6999450260934603\n",
      "\t agent update: 1. EpsilonGreedy Bidder\n",
      "\t agent update: 2. DM (policy)\n"
     ]
    },
    {
     "name": "stderr",
     "output_type": "stream",
     "text": [
      "DM (policy) 2: 100%|██████████| 128/128 [00:00<00:00, 784.83it/s]\n"
     ]
    },
    {
     "name": "stdout",
     "output_type": "stream",
     "text": [
      "AUC predicting P(win):\t\t\t\t 0.3125\n"
     ]
    },
    {
     "name": "stderr",
     "output_type": "stream",
     "text": [
      "DM (policy) 2: 100%|██████████| 128/128 [00:00<00:00, 289.22it/s]\n"
     ]
    },
    {
     "name": "stdout",
     "output_type": "stream",
     "text": [
      "\t agent update: 3. Shaded Bidder\n",
      "Iteration 23 of 100\n",
      "\teach agent's surplus: [0.0, 0.7985833059840958, -2.2007273692959544]\n",
      "\tsums to -1.4021440633118587\n",
      "\t agent update: 1. EpsilonGreedy Bidder\n",
      "\t agent update: 2. DM (policy)\n"
     ]
    },
    {
     "name": "stderr",
     "output_type": "stream",
     "text": [
      "DM (policy) 2: 100%|██████████| 128/128 [00:00<00:00, 945.94it/s]\n"
     ]
    },
    {
     "name": "stdout",
     "output_type": "stream",
     "text": [
      "AUC predicting P(win):\t\t\t\t 0.33333333333333337\n"
     ]
    },
    {
     "name": "stderr",
     "output_type": "stream",
     "text": [
      "DM (policy) 2: 100%|██████████| 128/128 [00:00<00:00, 340.97it/s]\n"
     ]
    },
    {
     "name": "stdout",
     "output_type": "stream",
     "text": [
      "\t agent update: 3. Shaded Bidder\n",
      "Iteration 24 of 100\n",
      "\teach agent's surplus: [0.0, 0.5646313352665542, 0.04639225549772852]\n",
      "\tsums to 0.6110235907642827\n",
      "\t agent update: 1. EpsilonGreedy Bidder\n",
      "\t agent update: 2. DM (policy)\n"
     ]
    },
    {
     "name": "stderr",
     "output_type": "stream",
     "text": [
      "DM (policy) 2: 100%|██████████| 128/128 [00:00<00:00, 902.55it/s]\n"
     ]
    },
    {
     "name": "stdout",
     "output_type": "stream",
     "text": [
      "AUC predicting P(win):\t\t\t\t 0.375\n"
     ]
    },
    {
     "name": "stderr",
     "output_type": "stream",
     "text": [
      "DM (policy) 2: 100%|██████████| 128/128 [00:00<00:00, 338.97it/s]\n"
     ]
    },
    {
     "name": "stdout",
     "output_type": "stream",
     "text": [
      "\t agent update: 3. Shaded Bidder\n",
      "Iteration 25 of 100\n",
      "\teach agent's surplus: [0.0, 0.3593678878737421, 2.837944377346562]\n",
      "\tsums to 3.1973122652203037\n",
      "\t agent update: 1. EpsilonGreedy Bidder\n",
      "\t agent update: 2. DM (policy)\n"
     ]
    },
    {
     "name": "stderr",
     "output_type": "stream",
     "text": [
      "DM (policy) 2: 100%|██████████| 128/128 [00:00<00:00, 638.17it/s]\n"
     ]
    },
    {
     "name": "stdout",
     "output_type": "stream",
     "text": [
      "AUC predicting P(win):\t\t\t\t 0.6875\n"
     ]
    },
    {
     "name": "stderr",
     "output_type": "stream",
     "text": [
      "DM (policy) 2: 100%|██████████| 128/128 [00:00<00:00, 329.60it/s]\n"
     ]
    },
    {
     "name": "stdout",
     "output_type": "stream",
     "text": [
      "\t agent update: 3. Shaded Bidder\n",
      "Iteration 26 of 100\n",
      "\teach agent's surplus: [0.5051466011191255, 0.9461577083170252, 0.576307860029092]\n",
      "\tsums to 2.0276121694652427\n",
      "\t agent update: 1. EpsilonGreedy Bidder\n",
      "\t agent update: 2. DM (policy)\n"
     ]
    },
    {
     "name": "stderr",
     "output_type": "stream",
     "text": [
      "DM (policy) 2: 100%|██████████| 128/128 [00:00<00:00, 921.38it/s]\n"
     ]
    },
    {
     "name": "stdout",
     "output_type": "stream",
     "text": [
      "AUC predicting P(win):\t\t\t\t 0.6666666666666667\n"
     ]
    },
    {
     "name": "stderr",
     "output_type": "stream",
     "text": [
      "DM (policy) 2: 100%|██████████| 128/128 [00:00<00:00, 334.72it/s]\n"
     ]
    },
    {
     "name": "stdout",
     "output_type": "stream",
     "text": [
      "\t agent update: 3. Shaded Bidder\n",
      "Iteration 27 of 100\n",
      "\teach agent's surplus: [-1.001526164898456, 0.0, 1.3831316999192746]\n",
      "\tsums to 0.38160553502081873\n",
      "\t agent update: 1. EpsilonGreedy Bidder\n",
      "\t agent update: 2. DM (policy)\n",
      "! Fallback for DM (policy) 2\n",
      "\t agent update: 3. Shaded Bidder\n",
      "Iteration 28 of 100\n",
      "\teach agent's surplus: [-0.8, -1.0807024217549597, -1.431606083569233]\n",
      "\tsums to -3.312308505324193\n",
      "\t agent update: 1. EpsilonGreedy Bidder\n",
      "\t agent update: 2. DM (policy)\n"
     ]
    },
    {
     "name": "stderr",
     "output_type": "stream",
     "text": [
      "DM (policy) 2: 100%|██████████| 128/128 [00:00<00:00, 967.93it/s]\n"
     ]
    },
    {
     "name": "stdout",
     "output_type": "stream",
     "text": [
      "AUC predicting P(win):\t\t\t\t 0.31999999999999995\n"
     ]
    },
    {
     "name": "stderr",
     "output_type": "stream",
     "text": [
      "DM (policy) 2: 100%|██████████| 128/128 [00:00<00:00, 326.17it/s]\n"
     ]
    },
    {
     "name": "stdout",
     "output_type": "stream",
     "text": [
      "\t agent update: 3. Shaded Bidder\n",
      "Iteration 29 of 100\n",
      "\teach agent's surplus: [0.0, 0.8617485533870949, 1.6738916535373256]\n",
      "\tsums to 2.5356402069244206\n",
      "\t agent update: 1. EpsilonGreedy Bidder\n",
      "\t agent update: 2. DM (policy)\n"
     ]
    },
    {
     "name": "stderr",
     "output_type": "stream",
     "text": [
      "DM (policy) 2: 100%|██████████| 128/128 [00:00<00:00, 591.25it/s]\n"
     ]
    },
    {
     "name": "stdout",
     "output_type": "stream",
     "text": [
      "AUC predicting P(win):\t\t\t\t 0.6190476190476191\n"
     ]
    },
    {
     "name": "stderr",
     "output_type": "stream",
     "text": [
      "DM (policy) 2: 100%|██████████| 128/128 [00:00<00:00, 343.28it/s]\n"
     ]
    },
    {
     "name": "stdout",
     "output_type": "stream",
     "text": [
      "\t agent update: 3. Shaded Bidder\n",
      "Iteration 30 of 100\n",
      "\teach agent's surplus: [0.0, 0.7689714649173998, -0.8039997538781896]\n",
      "\tsums to -0.0350282889607898\n",
      "\t agent update: 1. EpsilonGreedy Bidder\n",
      "\t agent update: 2. DM (policy)\n"
     ]
    },
    {
     "name": "stderr",
     "output_type": "stream",
     "text": [
      "DM (policy) 2: 100%|██████████| 128/128 [00:00<00:00, 922.50it/s]\n"
     ]
    },
    {
     "name": "stdout",
     "output_type": "stream",
     "text": [
      "AUC predicting P(win):\t\t\t\t 0.43999999999999995\n"
     ]
    },
    {
     "name": "stderr",
     "output_type": "stream",
     "text": [
      "DM (policy) 2: 100%|██████████| 128/128 [00:00<00:00, 327.16it/s]\n"
     ]
    },
    {
     "name": "stdout",
     "output_type": "stream",
     "text": [
      "\t agent update: 3. Shaded Bidder\n",
      "Iteration 31 of 100\n",
      "\teach agent's surplus: [0.0, 2.1423314171189625, 3.0666618432381707]\n",
      "\tsums to 5.208993260357133\n",
      "\t agent update: 1. EpsilonGreedy Bidder\n",
      "\t agent update: 2. DM (policy)\n"
     ]
    },
    {
     "name": "stderr",
     "output_type": "stream",
     "text": [
      "DM (policy) 2: 100%|██████████| 128/128 [00:00<00:00, 953.98it/s]\n"
     ]
    },
    {
     "name": "stdout",
     "output_type": "stream",
     "text": [
      "AUC predicting P(win):\t\t\t\t 0.1875\n"
     ]
    },
    {
     "name": "stderr",
     "output_type": "stream",
     "text": [
      "DM (policy) 2: 100%|██████████| 128/128 [00:00<00:00, 291.11it/s]\n"
     ]
    },
    {
     "name": "stdout",
     "output_type": "stream",
     "text": [
      "\t agent update: 3. Shaded Bidder\n",
      "Iteration 32 of 100\n",
      "\teach agent's surplus: [0.0, 0.550217291004539, 0.7835194975582491]\n",
      "\tsums to 1.333736788562788\n",
      "\t agent update: 1. EpsilonGreedy Bidder\n",
      "\t agent update: 2. DM (policy)\n"
     ]
    },
    {
     "name": "stderr",
     "output_type": "stream",
     "text": [
      "DM (policy) 2: 100%|██████████| 128/128 [00:00<00:00, 960.79it/s]\n"
     ]
    },
    {
     "name": "stdout",
     "output_type": "stream",
     "text": [
      "AUC predicting P(win):\t\t\t\t 0.375\n"
     ]
    },
    {
     "name": "stderr",
     "output_type": "stream",
     "text": [
      "DM (policy) 2: 100%|██████████| 128/128 [00:00<00:00, 337.44it/s]\n"
     ]
    },
    {
     "name": "stdout",
     "output_type": "stream",
     "text": [
      "\t agent update: 3. Shaded Bidder\n",
      "Iteration 33 of 100\n",
      "\teach agent's surplus: [-0.8, 0.7366440174741596, 0.5238278227462747]\n",
      "\tsums to 0.4604718402204343\n",
      "\t agent update: 1. EpsilonGreedy Bidder\n",
      "\t agent update: 2. DM (policy)\n"
     ]
    },
    {
     "name": "stderr",
     "output_type": "stream",
     "text": [
      "DM (policy) 2: 100%|██████████| 128/128 [00:00<00:00, 900.08it/s]\n"
     ]
    },
    {
     "name": "stdout",
     "output_type": "stream",
     "text": [
      "AUC predicting P(win):\t\t\t\t 0.5555555555555556\n"
     ]
    },
    {
     "name": "stderr",
     "output_type": "stream",
     "text": [
      "DM (policy) 2: 100%|██████████| 128/128 [00:00<00:00, 343.81it/s]\n"
     ]
    },
    {
     "name": "stdout",
     "output_type": "stream",
     "text": [
      "\t agent update: 3. Shaded Bidder\n",
      "Iteration 34 of 100\n",
      "\teach agent's surplus: [0.0, 0.5506059617304313, 1.8210618729827162]\n",
      "\tsums to 2.3716678347131475\n",
      "\t agent update: 1. EpsilonGreedy Bidder\n",
      "\t agent update: 2. DM (policy)\n"
     ]
    },
    {
     "name": "stderr",
     "output_type": "stream",
     "text": [
      "DM (policy) 2: 100%|██████████| 128/128 [00:00<00:00, 749.93it/s]\n"
     ]
    },
    {
     "name": "stdout",
     "output_type": "stream",
     "text": [
      "AUC predicting P(win):\t\t\t\t 0.25\n"
     ]
    },
    {
     "name": "stderr",
     "output_type": "stream",
     "text": [
      "DM (policy) 2: 100%|██████████| 128/128 [00:00<00:00, 291.56it/s]\n"
     ]
    },
    {
     "name": "stdout",
     "output_type": "stream",
     "text": [
      "\t agent update: 3. Shaded Bidder\n",
      "Iteration 35 of 100\n",
      "\teach agent's surplus: [0.7493515132136286, 0.6493512515106714, -0.37639000922835564]\n",
      "\tsums to 1.0223127554959444\n",
      "\t agent update: 1. EpsilonGreedy Bidder\n",
      "\t agent update: 2. DM (policy)\n"
     ]
    },
    {
     "name": "stderr",
     "output_type": "stream",
     "text": [
      "DM (policy) 2: 100%|██████████| 128/128 [00:00<00:00, 857.80it/s]\n"
     ]
    },
    {
     "name": "stdout",
     "output_type": "stream",
     "text": [
      "AUC predicting P(win):\t\t\t\t 0.5\n"
     ]
    },
    {
     "name": "stderr",
     "output_type": "stream",
     "text": [
      "DM (policy) 2: 100%|██████████| 128/128 [00:00<00:00, 284.65it/s]\n"
     ]
    },
    {
     "name": "stdout",
     "output_type": "stream",
     "text": [
      "\t agent update: 3. Shaded Bidder\n",
      "Iteration 36 of 100\n",
      "\teach agent's surplus: [0.0, -0.023932637181226513, -1.0754669388111928]\n",
      "\tsums to -1.0993995759924193\n",
      "\t agent update: 1. EpsilonGreedy Bidder\n",
      "\t agent update: 2. DM (policy)\n"
     ]
    },
    {
     "name": "stderr",
     "output_type": "stream",
     "text": [
      "DM (policy) 2: 100%|██████████| 128/128 [00:00<00:00, 750.08it/s]\n"
     ]
    },
    {
     "name": "stdout",
     "output_type": "stream",
     "text": [
      "AUC predicting P(win):\t\t\t\t 0.6799999999999999\n"
     ]
    },
    {
     "name": "stderr",
     "output_type": "stream",
     "text": [
      "DM (policy) 2: 100%|██████████| 128/128 [00:00<00:00, 332.63it/s]\n"
     ]
    },
    {
     "name": "stdout",
     "output_type": "stream",
     "text": [
      "\t agent update: 3. Shaded Bidder\n",
      "Iteration 37 of 100\n",
      "\teach agent's surplus: [0.0, 3.3234373665549963, 0.5948675865988196]\n",
      "\tsums to 3.918304953153816\n",
      "\t agent update: 1. EpsilonGreedy Bidder\n",
      "\t agent update: 2. DM (policy)\n"
     ]
    },
    {
     "name": "stderr",
     "output_type": "stream",
     "text": [
      "DM (policy) 2: 100%|██████████| 128/128 [00:00<00:00, 644.80it/s]\n"
     ]
    },
    {
     "name": "stdout",
     "output_type": "stream",
     "text": [
      "AUC predicting P(win):\t\t\t\t 0.9583333333333334\n"
     ]
    },
    {
     "name": "stderr",
     "output_type": "stream",
     "text": [
      "DM (policy) 2: 100%|██████████| 128/128 [00:00<00:00, 334.84it/s]\n"
     ]
    },
    {
     "name": "stdout",
     "output_type": "stream",
     "text": [
      "\t agent update: 3. Shaded Bidder\n",
      "Iteration 38 of 100\n",
      "\teach agent's surplus: [-1.4, 0.0, 1.3683994039603098]\n",
      "\tsums to -0.03160059603969012\n",
      "\t agent update: 1. EpsilonGreedy Bidder\n",
      "\t agent update: 2. DM (policy)\n",
      "! Fallback for DM (policy) 2\n",
      "\t agent update: 3. Shaded Bidder\n",
      "Iteration 39 of 100\n",
      "\teach agent's surplus: [-0.8, 0.9543062950169491, -0.17776124214363392]\n",
      "\tsums to -0.02345494712668489\n",
      "\t agent update: 1. EpsilonGreedy Bidder\n",
      "\t agent update: 2. DM (policy)\n"
     ]
    },
    {
     "name": "stderr",
     "output_type": "stream",
     "text": [
      "DM (policy) 2: 100%|██████████| 128/128 [00:00<00:00, 777.43it/s]\n"
     ]
    },
    {
     "name": "stdout",
     "output_type": "stream",
     "text": [
      "AUC predicting P(win):\t\t\t\t 0.7142857142857143\n"
     ]
    },
    {
     "name": "stderr",
     "output_type": "stream",
     "text": [
      "DM (policy) 2: 100%|██████████| 128/128 [00:00<00:00, 286.97it/s]\n"
     ]
    },
    {
     "name": "stdout",
     "output_type": "stream",
     "text": [
      "\t agent update: 3. Shaded Bidder\n",
      "Iteration 40 of 100\n",
      "\teach agent's surplus: [0.0, 0.45374227778182313, 1.4070623107048204]\n",
      "\tsums to 1.8608045884866435\n",
      "\t agent update: 1. EpsilonGreedy Bidder\n",
      "\t agent update: 2. DM (policy)\n"
     ]
    },
    {
     "name": "stderr",
     "output_type": "stream",
     "text": [
      "DM (policy) 2: 100%|██████████| 128/128 [00:00<00:00, 839.08it/s]\n"
     ]
    },
    {
     "name": "stdout",
     "output_type": "stream",
     "text": [
      "AUC predicting P(win):\t\t\t\t 0.5833333333333334\n"
     ]
    },
    {
     "name": "stderr",
     "output_type": "stream",
     "text": [
      "DM (policy) 2: 100%|██████████| 128/128 [00:00<00:00, 341.61it/s]\n"
     ]
    },
    {
     "name": "stdout",
     "output_type": "stream",
     "text": [
      "\t agent update: 3. Shaded Bidder\n",
      "Iteration 41 of 100\n",
      "\teach agent's surplus: [-1.4, -0.15786427579729267, 1.0990768927875547]\n",
      "\tsums to -0.45878738300973776\n",
      "\t agent update: 1. EpsilonGreedy Bidder\n",
      "\t agent update: 2. DM (policy)\n"
     ]
    },
    {
     "name": "stderr",
     "output_type": "stream",
     "text": [
      "DM (policy) 2: 100%|██████████| 128/128 [00:00<00:00, 572.80it/s]\n"
     ]
    },
    {
     "name": "stdout",
     "output_type": "stream",
     "text": [
      "AUC predicting P(win):\t\t\t\t 0.33333333333333337\n"
     ]
    },
    {
     "name": "stderr",
     "output_type": "stream",
     "text": [
      "DM (policy) 2: 100%|██████████| 128/128 [00:00<00:00, 230.77it/s]\n"
     ]
    },
    {
     "name": "stdout",
     "output_type": "stream",
     "text": [
      "\t agent update: 3. Shaded Bidder\n",
      "Iteration 42 of 100\n",
      "\teach agent's surplus: [0.0, 1.9073470968237485, 1.7334201948709098]\n",
      "\tsums to 3.640767291694658\n",
      "\t agent update: 1. EpsilonGreedy Bidder\n",
      "\t agent update: 2. DM (policy)\n"
     ]
    },
    {
     "name": "stderr",
     "output_type": "stream",
     "text": [
      "DM (policy) 2: 100%|██████████| 128/128 [00:00<00:00, 811.76it/s]\n"
     ]
    },
    {
     "name": "stdout",
     "output_type": "stream",
     "text": [
      "AUC predicting P(win):\t\t\t\t 0.5\n"
     ]
    },
    {
     "name": "stderr",
     "output_type": "stream",
     "text": [
      "DM (policy) 2: 100%|██████████| 128/128 [00:00<00:00, 221.74it/s]\n"
     ]
    },
    {
     "name": "stdout",
     "output_type": "stream",
     "text": [
      "\t agent update: 3. Shaded Bidder\n",
      "Iteration 43 of 100\n",
      "\teach agent's surplus: [0.0, 0.7811812360499346, 1.1423830878330763]\n",
      "\tsums to 1.923564323883011\n",
      "\t agent update: 1. EpsilonGreedy Bidder\n",
      "\t agent update: 2. DM (policy)\n"
     ]
    },
    {
     "name": "stderr",
     "output_type": "stream",
     "text": [
      "DM (policy) 2: 100%|██████████| 128/128 [00:00<00:00, 1120.65it/s]\n"
     ]
    },
    {
     "name": "stdout",
     "output_type": "stream",
     "text": [
      "AUC predicting P(win):\t\t\t\t 0.5833333333333334\n"
     ]
    },
    {
     "name": "stderr",
     "output_type": "stream",
     "text": [
      "DM (policy) 2: 100%|██████████| 128/128 [00:00<00:00, 377.72it/s]\n"
     ]
    },
    {
     "name": "stdout",
     "output_type": "stream",
     "text": [
      "\t agent update: 3. Shaded Bidder\n",
      "Iteration 44 of 100\n",
      "\teach agent's surplus: [0.0, 2.011069102384157, -0.4899447256959676]\n",
      "\tsums to 1.5211243766881895\n",
      "\t agent update: 1. EpsilonGreedy Bidder\n",
      "\t agent update: 2. DM (policy)\n"
     ]
    },
    {
     "name": "stderr",
     "output_type": "stream",
     "text": [
      "DM (policy) 2: 100%|██████████| 128/128 [00:00<00:00, 1343.59it/s]\n"
     ]
    },
    {
     "name": "stdout",
     "output_type": "stream",
     "text": [
      "AUC predicting P(win):\t\t\t\t 0.6666666666666667\n"
     ]
    },
    {
     "name": "stderr",
     "output_type": "stream",
     "text": [
      "DM (policy) 2: 100%|██████████| 128/128 [00:00<00:00, 383.76it/s]\n"
     ]
    },
    {
     "name": "stdout",
     "output_type": "stream",
     "text": [
      "\t agent update: 3. Shaded Bidder\n",
      "Iteration 45 of 100\n",
      "\teach agent's surplus: [0.0, 0.6396593473670469, 0.01941198849090231]\n",
      "\tsums to 0.6590713358579492\n",
      "\t agent update: 1. EpsilonGreedy Bidder\n",
      "\t agent update: 2. DM (policy)\n"
     ]
    },
    {
     "name": "stderr",
     "output_type": "stream",
     "text": [
      "DM (policy) 2: 100%|██████████| 128/128 [00:00<00:00, 661.30it/s]\n"
     ]
    },
    {
     "name": "stdout",
     "output_type": "stream",
     "text": [
      "AUC predicting P(win):\t\t\t\t 0.75\n"
     ]
    },
    {
     "name": "stderr",
     "output_type": "stream",
     "text": [
      "DM (policy) 2: 100%|██████████| 128/128 [00:00<00:00, 371.29it/s]\n"
     ]
    },
    {
     "name": "stdout",
     "output_type": "stream",
     "text": [
      "\t agent update: 3. Shaded Bidder\n",
      "Iteration 46 of 100\n",
      "\teach agent's surplus: [0.0, 2.258232827952744, 1.2435460372012708]\n",
      "\tsums to 3.501778865154015\n",
      "\t agent update: 1. EpsilonGreedy Bidder\n",
      "\t agent update: 2. DM (policy)\n"
     ]
    },
    {
     "name": "stderr",
     "output_type": "stream",
     "text": [
      "DM (policy) 2: 100%|██████████| 128/128 [00:00<00:00, 1371.28it/s]\n"
     ]
    },
    {
     "name": "stdout",
     "output_type": "stream",
     "text": [
      "AUC predicting P(win):\t\t\t\t 0.7142857142857142\n"
     ]
    },
    {
     "name": "stderr",
     "output_type": "stream",
     "text": [
      "DM (policy) 2: 100%|██████████| 128/128 [00:00<00:00, 335.50it/s]\n"
     ]
    },
    {
     "name": "stdout",
     "output_type": "stream",
     "text": [
      "\t agent update: 3. Shaded Bidder\n",
      "Iteration 47 of 100\n",
      "\teach agent's surplus: [0.0, 3.1394857917053267, 1.076806985773736]\n",
      "\tsums to 4.216292777479063\n",
      "\t agent update: 1. EpsilonGreedy Bidder\n",
      "\t agent update: 2. DM (policy)\n"
     ]
    },
    {
     "name": "stderr",
     "output_type": "stream",
     "text": [
      "DM (policy) 2: 100%|██████████| 128/128 [00:00<00:00, 1355.70it/s]\n"
     ]
    },
    {
     "name": "stdout",
     "output_type": "stream",
     "text": [
      "AUC predicting P(win):\t\t\t\t 0.6666666666666666\n"
     ]
    },
    {
     "name": "stderr",
     "output_type": "stream",
     "text": [
      "DM (policy) 2: 100%|██████████| 128/128 [00:00<00:00, 391.42it/s]\n"
     ]
    },
    {
     "name": "stdout",
     "output_type": "stream",
     "text": [
      "\t agent update: 3. Shaded Bidder\n",
      "Iteration 48 of 100\n",
      "\teach agent's surplus: [0.0, 1.4409065360254671, -0.15362930642008307]\n",
      "\tsums to 1.287277229605384\n",
      "\t agent update: 1. EpsilonGreedy Bidder\n",
      "\t agent update: 2. DM (policy)\n"
     ]
    },
    {
     "name": "stderr",
     "output_type": "stream",
     "text": [
      "DM (policy) 2: 100%|██████████| 128/128 [00:00<00:00, 758.95it/s]\n"
     ]
    },
    {
     "name": "stdout",
     "output_type": "stream",
     "text": [
      "AUC predicting P(win):\t\t\t\t 1.0\n"
     ]
    },
    {
     "name": "stderr",
     "output_type": "stream",
     "text": [
      "DM (policy) 2: 100%|██████████| 128/128 [00:00<00:00, 378.27it/s]\n"
     ]
    },
    {
     "name": "stdout",
     "output_type": "stream",
     "text": [
      "\t agent update: 3. Shaded Bidder\n",
      "Iteration 49 of 100\n",
      "\teach agent's surplus: [0.0, 1.0440725842607863, -3.3252081128676196]\n",
      "\tsums to -2.2811355286068333\n",
      "\t agent update: 1. EpsilonGreedy Bidder\n",
      "\t agent update: 2. DM (policy)\n"
     ]
    },
    {
     "name": "stderr",
     "output_type": "stream",
     "text": [
      "DM (policy) 2: 100%|██████████| 128/128 [00:00<00:00, 1197.14it/s]\n"
     ]
    },
    {
     "name": "stdout",
     "output_type": "stream",
     "text": [
      "AUC predicting P(win):\t\t\t\t 0.6666666666666667\n"
     ]
    },
    {
     "name": "stderr",
     "output_type": "stream",
     "text": [
      "DM (policy) 2: 100%|██████████| 128/128 [00:00<00:00, 335.63it/s]\n"
     ]
    },
    {
     "name": "stdout",
     "output_type": "stream",
     "text": [
      "\t agent update: 3. Shaded Bidder\n",
      "Iteration 50 of 100\n",
      "\teach agent's surplus: [0.0, -0.678339099183785, -0.36644131906224087]\n",
      "\tsums to -1.0447804182460259\n",
      "\t agent update: 1. EpsilonGreedy Bidder\n",
      "\t agent update: 2. DM (policy)\n"
     ]
    },
    {
     "name": "stderr",
     "output_type": "stream",
     "text": [
      "DM (policy) 2: 100%|██████████| 128/128 [00:00<00:00, 1432.03it/s]\n"
     ]
    },
    {
     "name": "stdout",
     "output_type": "stream",
     "text": [
      "AUC predicting P(win):\t\t\t\t 0.4761904761904762\n"
     ]
    },
    {
     "name": "stderr",
     "output_type": "stream",
     "text": [
      "DM (policy) 2: 100%|██████████| 128/128 [00:00<00:00, 363.29it/s]\n"
     ]
    },
    {
     "name": "stdout",
     "output_type": "stream",
     "text": [
      "\t agent update: 3. Shaded Bidder\n",
      "Iteration 51 of 100\n",
      "\teach agent's surplus: [0.0, 0.19597826706878768, -0.007376528814059924]\n",
      "\tsums to 0.18860173825472776\n",
      "\t agent update: 1. EpsilonGreedy Bidder\n",
      "\t agent update: 2. DM (policy)\n"
     ]
    },
    {
     "name": "stderr",
     "output_type": "stream",
     "text": [
      "DM (policy) 2: 100%|██████████| 128/128 [00:00<00:00, 806.78it/s]\n"
     ]
    },
    {
     "name": "stdout",
     "output_type": "stream",
     "text": [
      "AUC predicting P(win):\t\t\t\t 0.375\n"
     ]
    },
    {
     "name": "stderr",
     "output_type": "stream",
     "text": [
      "DM (policy) 2: 100%|██████████| 128/128 [00:00<00:00, 360.25it/s]\n"
     ]
    },
    {
     "name": "stdout",
     "output_type": "stream",
     "text": [
      "\t agent update: 3. Shaded Bidder\n",
      "Iteration 52 of 100\n",
      "\teach agent's surplus: [0.0, 1.785645513532848, 0.009214269377564754]\n",
      "\tsums to 1.7948597829104127\n",
      "\t agent update: 1. EpsilonGreedy Bidder\n",
      "\t agent update: 2. DM (policy)\n"
     ]
    },
    {
     "name": "stderr",
     "output_type": "stream",
     "text": [
      "DM (policy) 2: 100%|██████████| 128/128 [00:00<00:00, 1370.86it/s]\n"
     ]
    },
    {
     "name": "stdout",
     "output_type": "stream",
     "text": [
      "AUC predicting P(win):\t\t\t\t 0.9523809523809524\n"
     ]
    },
    {
     "name": "stderr",
     "output_type": "stream",
     "text": [
      "DM (policy) 2: 100%|██████████| 128/128 [00:00<00:00, 340.99it/s]\n"
     ]
    },
    {
     "name": "stdout",
     "output_type": "stream",
     "text": [
      "\t agent update: 3. Shaded Bidder\n",
      "Iteration 53 of 100\n",
      "\teach agent's surplus: [0.0, 1.0690794571689681, -0.6034412955798368]\n",
      "\tsums to 0.4656381615891313\n",
      "\t agent update: 1. EpsilonGreedy Bidder\n",
      "\t agent update: 2. DM (policy)\n"
     ]
    },
    {
     "name": "stderr",
     "output_type": "stream",
     "text": [
      "DM (policy) 2: 100%|██████████| 128/128 [00:00<00:00, 1327.79it/s]\n"
     ]
    },
    {
     "name": "stdout",
     "output_type": "stream",
     "text": [
      "AUC predicting P(win):\t\t\t\t 0.43999999999999995\n"
     ]
    },
    {
     "name": "stderr",
     "output_type": "stream",
     "text": [
      "DM (policy) 2: 100%|██████████| 128/128 [00:00<00:00, 323.43it/s]\n"
     ]
    },
    {
     "name": "stdout",
     "output_type": "stream",
     "text": [
      "\t agent update: 3. Shaded Bidder\n",
      "Iteration 54 of 100\n",
      "\teach agent's surplus: [0.0, 2.3795928978438186, -1.9192536236739408]\n",
      "\tsums to 0.46033927416987774\n",
      "\t agent update: 1. EpsilonGreedy Bidder\n",
      "\t agent update: 2. DM (policy)\n"
     ]
    },
    {
     "name": "stderr",
     "output_type": "stream",
     "text": [
      "DM (policy) 2: 100%|██████████| 128/128 [00:00<00:00, 535.68it/s]\n"
     ]
    },
    {
     "name": "stdout",
     "output_type": "stream",
     "text": [
      "AUC predicting P(win):\t\t\t\t 0.6666666666666667\n"
     ]
    },
    {
     "name": "stderr",
     "output_type": "stream",
     "text": [
      "DM (policy) 2: 100%|██████████| 128/128 [00:00<00:00, 370.20it/s]\n"
     ]
    },
    {
     "name": "stdout",
     "output_type": "stream",
     "text": [
      "\t agent update: 3. Shaded Bidder\n",
      "Iteration 55 of 100\n",
      "\teach agent's surplus: [0.20514660111912542, 1.4390656333863094, -1.1772642812553797]\n",
      "\tsums to 0.4669479532500551\n",
      "\t agent update: 1. EpsilonGreedy Bidder\n",
      "\t agent update: 2. DM (policy)\n"
     ]
    },
    {
     "name": "stderr",
     "output_type": "stream",
     "text": [
      "DM (policy) 2: 100%|██████████| 128/128 [00:00<00:00, 1343.08it/s]\n"
     ]
    },
    {
     "name": "stdout",
     "output_type": "stream",
     "text": [
      "AUC predicting P(win):\t\t\t\t 0.625\n"
     ]
    },
    {
     "name": "stderr",
     "output_type": "stream",
     "text": [
      "DM (policy) 2: 100%|██████████| 128/128 [00:00<00:00, 342.92it/s]\n"
     ]
    },
    {
     "name": "stdout",
     "output_type": "stream",
     "text": [
      "Epoch 00104: reducing learning rate of group 0 to 2.0000e-04.\n",
      "\t agent update: 3. Shaded Bidder\n",
      "Iteration 56 of 100\n",
      "\teach agent's surplus: [0.0, -0.060820889145007495, 1.6371907512189412]\n",
      "\tsums to 1.5763698620739337\n",
      "\t agent update: 1. EpsilonGreedy Bidder\n",
      "\t agent update: 2. DM (policy)\n"
     ]
    },
    {
     "name": "stderr",
     "output_type": "stream",
     "text": [
      "DM (policy) 2: 100%|██████████| 128/128 [00:00<00:00, 1341.97it/s]\n"
     ]
    },
    {
     "name": "stdout",
     "output_type": "stream",
     "text": [
      "AUC predicting P(win):\t\t\t\t 0.42857142857142855\n"
     ]
    },
    {
     "name": "stderr",
     "output_type": "stream",
     "text": [
      "DM (policy) 2: 100%|██████████| 128/128 [00:00<00:00, 323.57it/s]\n"
     ]
    },
    {
     "name": "stdout",
     "output_type": "stream",
     "text": [
      "\t agent update: 3. Shaded Bidder\n",
      "Iteration 57 of 100\n",
      "\teach agent's surplus: [0.0, -0.3450539125586663, -1.1451185550901661]\n",
      "\tsums to -1.4901724676488324\n",
      "\t agent update: 1. EpsilonGreedy Bidder\n",
      "\t agent update: 2. DM (policy)\n"
     ]
    },
    {
     "name": "stderr",
     "output_type": "stream",
     "text": [
      "DM (policy) 2: 100%|██████████| 128/128 [00:00<00:00, 1216.24it/s]\n"
     ]
    },
    {
     "name": "stdout",
     "output_type": "stream",
     "text": [
      "AUC predicting P(win):\t\t\t\t 0.5555555555555556\n"
     ]
    },
    {
     "name": "stderr",
     "output_type": "stream",
     "text": [
      "DM (policy) 2: 100%|██████████| 128/128 [00:00<00:00, 377.52it/s]\n"
     ]
    },
    {
     "name": "stdout",
     "output_type": "stream",
     "text": [
      "\t agent update: 3. Shaded Bidder\n",
      "Iteration 58 of 100\n",
      "\teach agent's surplus: [0.0, 1.1755985736886692, 2.184589006539909]\n",
      "\tsums to 3.360187580228578\n",
      "\t agent update: 1. EpsilonGreedy Bidder\n",
      "\t agent update: 2. DM (policy)\n"
     ]
    },
    {
     "name": "stderr",
     "output_type": "stream",
     "text": [
      "DM (policy) 2: 100%|██████████| 128/128 [00:00<00:00, 1371.23it/s]\n"
     ]
    },
    {
     "name": "stdout",
     "output_type": "stream",
     "text": [
      "AUC predicting P(win):\t\t\t\t 0.7142857142857143\n"
     ]
    },
    {
     "name": "stderr",
     "output_type": "stream",
     "text": [
      "DM (policy) 2: 100%|██████████| 128/128 [00:00<00:00, 407.80it/s]\n"
     ]
    },
    {
     "name": "stdout",
     "output_type": "stream",
     "text": [
      "\t agent update: 3. Shaded Bidder\n",
      "Iteration 59 of 100\n",
      "\teach agent's surplus: [-1.4, -1.2254231693857374, -1.0673886872666203]\n",
      "\tsums to -3.6928118566523573\n",
      "\t agent update: 1. EpsilonGreedy Bidder\n",
      "\t agent update: 2. DM (policy)\n"
     ]
    },
    {
     "name": "stderr",
     "output_type": "stream",
     "text": [
      "DM (policy) 2: 100%|██████████| 128/128 [00:00<00:00, 1342.17it/s]\n"
     ]
    },
    {
     "name": "stdout",
     "output_type": "stream",
     "text": [
      "AUC predicting P(win):\t\t\t\t 0.4\n"
     ]
    },
    {
     "name": "stderr",
     "output_type": "stream",
     "text": [
      "DM (policy) 2: 100%|██████████| 128/128 [00:00<00:00, 268.99it/s]\n"
     ]
    },
    {
     "name": "stdout",
     "output_type": "stream",
     "text": [
      "\t agent update: 3. Shaded Bidder\n",
      "Iteration 60 of 100\n",
      "\teach agent's surplus: [0.0, 0.5670253295802007, -1.170048317415977]\n",
      "\tsums to -0.6030229878357763\n",
      "\t agent update: 1. EpsilonGreedy Bidder\n",
      "\t agent update: 2. DM (policy)\n"
     ]
    },
    {
     "name": "stderr",
     "output_type": "stream",
     "text": [
      "DM (policy) 2: 100%|██████████| 128/128 [00:00<00:00, 1063.97it/s]\n"
     ]
    },
    {
     "name": "stdout",
     "output_type": "stream",
     "text": [
      "AUC predicting P(win):\t\t\t\t 0.8571428571428572\n"
     ]
    },
    {
     "name": "stderr",
     "output_type": "stream",
     "text": [
      "DM (policy) 2: 100%|██████████| 128/128 [00:00<00:00, 296.24it/s]\n"
     ]
    },
    {
     "name": "stdout",
     "output_type": "stream",
     "text": [
      "\t agent update: 3. Shaded Bidder\n",
      "Iteration 61 of 100\n",
      "\teach agent's surplus: [0.0, 0.7264192089796232, 0.49398730222368203]\n",
      "\tsums to 1.2204065112033051\n",
      "\t agent update: 1. EpsilonGreedy Bidder\n",
      "\t agent update: 2. DM (policy)\n"
     ]
    },
    {
     "name": "stderr",
     "output_type": "stream",
     "text": [
      "DM (policy) 2: 100%|██████████| 128/128 [00:00<00:00, 994.54it/s] \n"
     ]
    },
    {
     "name": "stdout",
     "output_type": "stream",
     "text": [
      "AUC predicting P(win):\t\t\t\t 0.75\n"
     ]
    },
    {
     "name": "stderr",
     "output_type": "stream",
     "text": [
      "DM (policy) 2: 100%|██████████| 128/128 [00:00<00:00, 302.56it/s]\n"
     ]
    },
    {
     "name": "stdout",
     "output_type": "stream",
     "text": [
      "\t agent update: 3. Shaded Bidder\n",
      "Iteration 62 of 100\n",
      "\teach agent's surplus: [0.0, -0.17185917583412053, 3.8193244090514993]\n",
      "\tsums to 3.6474652332173787\n",
      "\t agent update: 1. EpsilonGreedy Bidder\n",
      "\t agent update: 2. DM (policy)\n"
     ]
    },
    {
     "name": "stderr",
     "output_type": "stream",
     "text": [
      "DM (policy) 2: 100%|██████████| 128/128 [00:00<00:00, 1182.15it/s]\n"
     ]
    },
    {
     "name": "stdout",
     "output_type": "stream",
     "text": [
      "AUC predicting P(win):\t\t\t\t 0.4444444444444444\n"
     ]
    },
    {
     "name": "stderr",
     "output_type": "stream",
     "text": [
      "DM (policy) 2: 100%|██████████| 128/128 [00:00<00:00, 303.63it/s]\n"
     ]
    },
    {
     "name": "stdout",
     "output_type": "stream",
     "text": [
      "\t agent update: 3. Shaded Bidder\n",
      "Iteration 63 of 100\n",
      "\teach agent's surplus: [0.0, 0.0, 3.25452667544244]\n",
      "\tsums to 3.25452667544244\n",
      "\t agent update: 1. EpsilonGreedy Bidder\n",
      "\t agent update: 2. DM (policy)\n",
      "! Fallback for DM (policy) 2\n",
      "\t agent update: 3. Shaded Bidder\n",
      "Iteration 64 of 100\n",
      "\teach agent's surplus: [0.0, 0.9528744564814937, 2.0955567156054022]\n",
      "\tsums to 3.0484311720868957\n",
      "\t agent update: 1. EpsilonGreedy Bidder\n",
      "\t agent update: 2. DM (policy)\n"
     ]
    },
    {
     "name": "stderr",
     "output_type": "stream",
     "text": [
      "DM (policy) 2: 100%|██████████| 128/128 [00:00<00:00, 975.81it/s]\n"
     ]
    },
    {
     "name": "stdout",
     "output_type": "stream",
     "text": [
      "AUC predicting P(win):\t\t\t\t 0.8333333333333334\n"
     ]
    },
    {
     "name": "stderr",
     "output_type": "stream",
     "text": [
      "DM (policy) 2: 100%|██████████| 128/128 [00:00<00:00, 366.33it/s]\n"
     ]
    },
    {
     "name": "stdout",
     "output_type": "stream",
     "text": [
      "\t agent update: 3. Shaded Bidder\n",
      "Iteration 65 of 100\n",
      "\teach agent's surplus: [0.0, -0.7240266817321797, 0.36245958459736793]\n",
      "\tsums to -0.3615670971348117\n",
      "\t agent update: 1. EpsilonGreedy Bidder\n",
      "\t agent update: 2. DM (policy)\n"
     ]
    },
    {
     "name": "stderr",
     "output_type": "stream",
     "text": [
      "DM (policy) 2: 100%|██████████| 128/128 [00:00<00:00, 1315.61it/s]\n"
     ]
    },
    {
     "name": "stdout",
     "output_type": "stream",
     "text": [
      "AUC predicting P(win):\t\t\t\t 0.5\n"
     ]
    },
    {
     "name": "stderr",
     "output_type": "stream",
     "text": [
      "DM (policy) 2: 100%|██████████| 128/128 [00:00<00:00, 330.46it/s]\n"
     ]
    },
    {
     "name": "stdout",
     "output_type": "stream",
     "text": [
      "\t agent update: 3. Shaded Bidder\n",
      "Iteration 66 of 100\n",
      "\teach agent's surplus: [0.0, 1.7886548477881954, 1.3196426910251724]\n",
      "\tsums to 3.1082975388133676\n",
      "\t agent update: 1. EpsilonGreedy Bidder\n",
      "\t agent update: 2. DM (policy)\n"
     ]
    },
    {
     "name": "stderr",
     "output_type": "stream",
     "text": [
      "DM (policy) 2: 100%|██████████| 128/128 [00:00<00:00, 1387.47it/s]\n"
     ]
    },
    {
     "name": "stdout",
     "output_type": "stream",
     "text": [
      "AUC predicting P(win):\t\t\t\t 0.56\n"
     ]
    },
    {
     "name": "stderr",
     "output_type": "stream",
     "text": [
      "DM (policy) 2: 100%|██████████| 128/128 [00:00<00:00, 389.35it/s]\n"
     ]
    },
    {
     "name": "stdout",
     "output_type": "stream",
     "text": [
      "\t agent update: 3. Shaded Bidder\n",
      "Iteration 67 of 100\n",
      "\teach agent's surplus: [0.0, -1.6415915402173662, 1.6556286351520828]\n",
      "\tsums to 0.01403709493471661\n",
      "\t agent update: 1. EpsilonGreedy Bidder\n",
      "\t agent update: 2. DM (policy)\n"
     ]
    },
    {
     "name": "stderr",
     "output_type": "stream",
     "text": [
      "DM (policy) 2: 100%|██████████| 128/128 [00:00<00:00, 1327.28it/s]\n"
     ]
    },
    {
     "name": "stdout",
     "output_type": "stream",
     "text": [
      "AUC predicting P(win):\t\t\t\t 0.8333333333333334\n"
     ]
    },
    {
     "name": "stderr",
     "output_type": "stream",
     "text": [
      "DM (policy) 2: 100%|██████████| 128/128 [00:00<00:00, 357.53it/s]\n"
     ]
    },
    {
     "name": "stdout",
     "output_type": "stream",
     "text": [
      "\t agent update: 3. Shaded Bidder\n",
      "Iteration 68 of 100\n",
      "\teach agent's surplus: [0.0, 3.4638971741463913, 1.6789220188793357]\n",
      "\tsums to 5.142819193025727\n",
      "\t agent update: 1. EpsilonGreedy Bidder\n",
      "\t agent update: 2. DM (policy)\n"
     ]
    },
    {
     "name": "stderr",
     "output_type": "stream",
     "text": [
      "DM (policy) 2: 100%|██████████| 128/128 [00:00<00:00, 1214.91it/s]\n"
     ]
    },
    {
     "name": "stdout",
     "output_type": "stream",
     "text": [
      "AUC predicting P(win):\t\t\t\t 0.8333333333333334\n"
     ]
    },
    {
     "name": "stderr",
     "output_type": "stream",
     "text": [
      "DM (policy) 2: 100%|██████████| 128/128 [00:00<00:00, 306.73it/s]\n"
     ]
    },
    {
     "name": "stdout",
     "output_type": "stream",
     "text": [
      "\t agent update: 3. Shaded Bidder\n",
      "Iteration 69 of 100\n",
      "\teach agent's surplus: [0.0, 0.0, 1.5762230420183954]\n",
      "\tsums to 1.5762230420183954\n",
      "\t agent update: 1. EpsilonGreedy Bidder\n",
      "\t agent update: 2. DM (policy)\n",
      "! Fallback for DM (policy) 2\n",
      "\t agent update: 3. Shaded Bidder\n",
      "Iteration 70 of 100\n",
      "\teach agent's surplus: [0.0, -1.1221163687201403, 0.7842069526029467]\n",
      "\tsums to -0.3379094161171936\n",
      "\t agent update: 1. EpsilonGreedy Bidder\n",
      "\t agent update: 2. DM (policy)\n"
     ]
    },
    {
     "name": "stderr",
     "output_type": "stream",
     "text": [
      "DM (policy) 2: 100%|██████████| 128/128 [00:00<00:00, 1315.44it/s]\n"
     ]
    },
    {
     "name": "stdout",
     "output_type": "stream",
     "text": [
      "AUC predicting P(win):\t\t\t\t 0.8095238095238095\n"
     ]
    },
    {
     "name": "stderr",
     "output_type": "stream",
     "text": [
      "DM (policy) 2: 100%|██████████| 128/128 [00:00<00:00, 398.41it/s]\n"
     ]
    },
    {
     "name": "stdout",
     "output_type": "stream",
     "text": [
      "\t agent update: 3. Shaded Bidder\n",
      "Iteration 71 of 100\n",
      "\teach agent's surplus: [0.0, 0.055143202626922516, 3.1211418123589283]\n",
      "\tsums to 3.176285014985851\n",
      "\t agent update: 1. EpsilonGreedy Bidder\n",
      "\t agent update: 2. DM (policy)\n"
     ]
    },
    {
     "name": "stderr",
     "output_type": "stream",
     "text": [
      "DM (policy) 2: 100%|██████████| 128/128 [00:00<00:00, 1408.98it/s]\n"
     ]
    },
    {
     "name": "stdout",
     "output_type": "stream",
     "text": [
      "AUC predicting P(win):\t\t\t\t 0.8\n"
     ]
    },
    {
     "name": "stderr",
     "output_type": "stream",
     "text": [
      "DM (policy) 2: 100%|██████████| 128/128 [00:00<00:00, 357.56it/s]\n"
     ]
    },
    {
     "name": "stdout",
     "output_type": "stream",
     "text": [
      "\t agent update: 3. Shaded Bidder\n",
      "Iteration 72 of 100\n",
      "\teach agent's surplus: [0.0, 0.5433021023958913, -0.7479107823330945]\n",
      "\tsums to -0.20460867993720322\n",
      "\t agent update: 1. EpsilonGreedy Bidder\n",
      "\t agent update: 2. DM (policy)\n"
     ]
    },
    {
     "name": "stderr",
     "output_type": "stream",
     "text": [
      "DM (policy) 2: 100%|██████████| 128/128 [00:00<00:00, 788.86it/s]\n"
     ]
    },
    {
     "name": "stdout",
     "output_type": "stream",
     "text": [
      "AUC predicting P(win):\t\t\t\t 0.7916666666666666\n"
     ]
    },
    {
     "name": "stderr",
     "output_type": "stream",
     "text": [
      "DM (policy) 2: 100%|██████████| 128/128 [00:00<00:00, 384.54it/s]\n"
     ]
    },
    {
     "name": "stdout",
     "output_type": "stream",
     "text": [
      "\t agent update: 3. Shaded Bidder\n",
      "Iteration 73 of 100\n",
      "\teach agent's surplus: [-0.15064848678637133, -0.2582819978819384, 2.6859244215573757]\n",
      "\tsums to 2.276993936889066\n",
      "\t agent update: 1. EpsilonGreedy Bidder\n",
      "\t agent update: 2. DM (policy)\n"
     ]
    },
    {
     "name": "stderr",
     "output_type": "stream",
     "text": [
      "DM (policy) 2: 100%|██████████| 128/128 [00:00<00:00, 1393.70it/s]\n"
     ]
    },
    {
     "name": "stdout",
     "output_type": "stream",
     "text": [
      "AUC predicting P(win):\t\t\t\t 0.5625\n"
     ]
    },
    {
     "name": "stderr",
     "output_type": "stream",
     "text": [
      "DM (policy) 2: 100%|██████████| 128/128 [00:00<00:00, 379.87it/s]\n"
     ]
    },
    {
     "name": "stdout",
     "output_type": "stream",
     "text": [
      "\t agent update: 3. Shaded Bidder\n",
      "Iteration 74 of 100\n",
      "\teach agent's surplus: [0.0, 0.45804232908674536, 0.6103518530391572]\n",
      "\tsums to 1.0683941821259024\n",
      "\t agent update: 1. EpsilonGreedy Bidder\n",
      "\t agent update: 2. DM (policy)\n"
     ]
    },
    {
     "name": "stderr",
     "output_type": "stream",
     "text": [
      "DM (policy) 2: 100%|██████████| 128/128 [00:00<00:00, 1073.43it/s]\n"
     ]
    },
    {
     "name": "stdout",
     "output_type": "stream",
     "text": [
      "AUC predicting P(win):\t\t\t\t 0.7083333333333334\n"
     ]
    },
    {
     "name": "stderr",
     "output_type": "stream",
     "text": [
      "DM (policy) 2: 100%|██████████| 128/128 [00:00<00:00, 288.22it/s]\n"
     ]
    },
    {
     "name": "stdout",
     "output_type": "stream",
     "text": [
      "\t agent update: 3. Shaded Bidder\n",
      "Iteration 75 of 100\n",
      "\teach agent's surplus: [0.0, 2.0587907266327177, 0.44649114482693353]\n",
      "\tsums to 2.505281871459651\n",
      "\t agent update: 1. EpsilonGreedy Bidder\n",
      "\t agent update: 2. DM (policy)\n"
     ]
    },
    {
     "name": "stderr",
     "output_type": "stream",
     "text": [
      "DM (policy) 2: 100%|██████████| 128/128 [00:00<00:00, 1082.52it/s]\n"
     ]
    },
    {
     "name": "stdout",
     "output_type": "stream",
     "text": [
      "AUC predicting P(win):\t\t\t\t 0.8095238095238095\n"
     ]
    },
    {
     "name": "stderr",
     "output_type": "stream",
     "text": [
      "DM (policy) 2: 100%|██████████| 128/128 [00:00<00:00, 351.37it/s]\n"
     ]
    },
    {
     "name": "stdout",
     "output_type": "stream",
     "text": [
      "\t agent update: 3. Shaded Bidder\n",
      "Iteration 76 of 100\n",
      "\teach agent's surplus: [0.0, -0.3274541451132411, -0.02608665863474602]\n",
      "\tsums to -0.35354080374798713\n",
      "\t agent update: 1. EpsilonGreedy Bidder\n",
      "\t agent update: 2. DM (policy)\n"
     ]
    },
    {
     "name": "stderr",
     "output_type": "stream",
     "text": [
      "DM (policy) 2: 100%|██████████| 128/128 [00:00<00:00, 1327.39it/s]\n"
     ]
    },
    {
     "name": "stdout",
     "output_type": "stream",
     "text": [
      "AUC predicting P(win):\t\t\t\t 0.5416666666666666\n"
     ]
    },
    {
     "name": "stderr",
     "output_type": "stream",
     "text": [
      "DM (policy) 2: 100%|██████████| 128/128 [00:00<00:00, 339.30it/s]\n"
     ]
    },
    {
     "name": "stdout",
     "output_type": "stream",
     "text": [
      "\t agent update: 3. Shaded Bidder\n",
      "Iteration 77 of 100\n",
      "\teach agent's surplus: [0.0, 0.3131544230675063, 0.5606020800374114]\n",
      "\tsums to 0.8737565031049177\n",
      "\t agent update: 1. EpsilonGreedy Bidder\n",
      "\t agent update: 2. DM (policy)\n"
     ]
    },
    {
     "name": "stderr",
     "output_type": "stream",
     "text": [
      "DM (policy) 2: 100%|██████████| 128/128 [00:00<00:00, 724.68it/s]\n"
     ]
    },
    {
     "name": "stdout",
     "output_type": "stream",
     "text": [
      "AUC predicting P(win):\t\t\t\t 0.6666666666666666\n"
     ]
    },
    {
     "name": "stderr",
     "output_type": "stream",
     "text": [
      "DM (policy) 2: 100%|██████████| 128/128 [00:00<00:00, 336.74it/s]\n"
     ]
    },
    {
     "name": "stdout",
     "output_type": "stream",
     "text": [
      "\t agent update: 3. Shaded Bidder\n",
      "Iteration 78 of 100\n",
      "\teach agent's surplus: [0.0, -1.2607127682521377, -1.2423432316002379]\n",
      "\tsums to -2.503055999852376\n",
      "\t agent update: 1. EpsilonGreedy Bidder\n",
      "\t agent update: 2. DM (policy)\n"
     ]
    },
    {
     "name": "stderr",
     "output_type": "stream",
     "text": [
      "DM (policy) 2: 100%|██████████| 128/128 [00:00<00:00, 1288.99it/s]\n"
     ]
    },
    {
     "name": "stdout",
     "output_type": "stream",
     "text": [
      "AUC predicting P(win):\t\t\t\t 0.5416666666666667\n"
     ]
    },
    {
     "name": "stderr",
     "output_type": "stream",
     "text": [
      "DM (policy) 2: 100%|██████████| 128/128 [00:00<00:00, 347.61it/s]\n"
     ]
    },
    {
     "name": "stdout",
     "output_type": "stream",
     "text": [
      "\t agent update: 3. Shaded Bidder\n",
      "Iteration 79 of 100\n",
      "\teach agent's surplus: [0.0, 1.458984032833389, -0.4481577112646296]\n",
      "\tsums to 1.0108263215687594\n",
      "\t agent update: 1. EpsilonGreedy Bidder\n",
      "\t agent update: 2. DM (policy)\n"
     ]
    },
    {
     "name": "stderr",
     "output_type": "stream",
     "text": [
      "DM (policy) 2: 100%|██████████| 128/128 [00:00<00:00, 1120.26it/s]\n"
     ]
    },
    {
     "name": "stdout",
     "output_type": "stream",
     "text": [
      "AUC predicting P(win):\t\t\t\t 0.38095238095238093\n"
     ]
    },
    {
     "name": "stderr",
     "output_type": "stream",
     "text": [
      "DM (policy) 2: 100%|██████████| 128/128 [00:00<00:00, 308.36it/s]\n"
     ]
    },
    {
     "name": "stdout",
     "output_type": "stream",
     "text": [
      "\t agent update: 3. Shaded Bidder\n",
      "Iteration 80 of 100\n",
      "\teach agent's surplus: [0.0, 1.9643376522288754, -1.8001031918804764]\n",
      "\tsums to 0.16423446034839895\n",
      "\t agent update: 1. EpsilonGreedy Bidder\n",
      "\t agent update: 2. DM (policy)\n"
     ]
    },
    {
     "name": "stderr",
     "output_type": "stream",
     "text": [
      "DM (policy) 2: 100%|██████████| 128/128 [00:00<00:00, 1192.92it/s]\n"
     ]
    },
    {
     "name": "stdout",
     "output_type": "stream",
     "text": [
      "AUC predicting P(win):\t\t\t\t 0.7083333333333334\n"
     ]
    },
    {
     "name": "stderr",
     "output_type": "stream",
     "text": [
      "DM (policy) 2: 100%|██████████| 128/128 [00:00<00:00, 321.43it/s]\n"
     ]
    },
    {
     "name": "stdout",
     "output_type": "stream",
     "text": [
      "\t agent update: 3. Shaded Bidder\n",
      "Iteration 81 of 100\n",
      "\teach agent's surplus: [0.0, 0.6038072998001458, 0.9399022627904913]\n",
      "\tsums to 1.543709562590637\n",
      "\t agent update: 1. EpsilonGreedy Bidder\n",
      "\t agent update: 2. DM (policy)\n"
     ]
    },
    {
     "name": "stderr",
     "output_type": "stream",
     "text": [
      "DM (policy) 2: 100%|██████████| 128/128 [00:00<00:00, 1120.67it/s]\n"
     ]
    },
    {
     "name": "stdout",
     "output_type": "stream",
     "text": [
      "AUC predicting P(win):\t\t\t\t 0.9523809523809524\n"
     ]
    },
    {
     "name": "stderr",
     "output_type": "stream",
     "text": [
      "DM (policy) 2: 100%|██████████| 128/128 [00:00<00:00, 323.61it/s]\n"
     ]
    },
    {
     "name": "stdout",
     "output_type": "stream",
     "text": [
      "\t agent update: 3. Shaded Bidder\n",
      "Iteration 82 of 100\n",
      "\teach agent's surplus: [0.0, 0.29424554451635726, 0.5028825447143315]\n",
      "\tsums to 0.7971280892306887\n",
      "\t agent update: 1. EpsilonGreedy Bidder\n",
      "\t agent update: 2. DM (policy)\n"
     ]
    },
    {
     "name": "stderr",
     "output_type": "stream",
     "text": [
      "DM (policy) 2: 100%|██████████| 128/128 [00:00<00:00, 712.90it/s]\n"
     ]
    },
    {
     "name": "stdout",
     "output_type": "stream",
     "text": [
      "AUC predicting P(win):\t\t\t\t 0.875\n"
     ]
    },
    {
     "name": "stderr",
     "output_type": "stream",
     "text": [
      "DM (policy) 2: 100%|██████████| 128/128 [00:00<00:00, 361.20it/s]\n"
     ]
    },
    {
     "name": "stdout",
     "output_type": "stream",
     "text": [
      "\t agent update: 3. Shaded Bidder\n",
      "Iteration 83 of 100\n",
      "\teach agent's surplus: [0.0, -1.0283862350235153, 0.3182644510406414]\n",
      "\tsums to -0.710121783982874\n",
      "\t agent update: 1. EpsilonGreedy Bidder\n",
      "\t agent update: 2. DM (policy)\n"
     ]
    },
    {
     "name": "stderr",
     "output_type": "stream",
     "text": [
      "DM (policy) 2: 100%|██████████| 128/128 [00:00<00:00, 1288.54it/s]\n"
     ]
    },
    {
     "name": "stdout",
     "output_type": "stream",
     "text": [
      "AUC predicting P(win):\t\t\t\t 0.75\n"
     ]
    },
    {
     "name": "stderr",
     "output_type": "stream",
     "text": [
      "DM (policy) 2: 100%|██████████| 128/128 [00:00<00:00, 354.16it/s]\n"
     ]
    },
    {
     "name": "stdout",
     "output_type": "stream",
     "text": [
      "\t agent update: 3. Shaded Bidder\n",
      "Iteration 84 of 100\n",
      "\teach agent's surplus: [0.0, 2.644670573345923, -0.011227602079315724]\n",
      "\tsums to 2.633442971266607\n",
      "\t agent update: 1. EpsilonGreedy Bidder\n",
      "\t agent update: 2. DM (policy)\n"
     ]
    },
    {
     "name": "stderr",
     "output_type": "stream",
     "text": [
      "DM (policy) 2: 100%|██████████| 128/128 [00:00<00:00, 1161.16it/s]\n"
     ]
    },
    {
     "name": "stdout",
     "output_type": "stream",
     "text": [
      "AUC predicting P(win):\t\t\t\t 0.625\n"
     ]
    },
    {
     "name": "stderr",
     "output_type": "stream",
     "text": [
      "DM (policy) 2: 100%|██████████| 128/128 [00:00<00:00, 306.06it/s]\n"
     ]
    },
    {
     "name": "stdout",
     "output_type": "stream",
     "text": [
      "\t agent update: 3. Shaded Bidder\n",
      "Iteration 85 of 100\n",
      "\teach agent's surplus: [-1.4, 1.8931443888848019, 1.1816513728817366]\n",
      "\tsums to 1.6747957617665385\n",
      "\t agent update: 1. EpsilonGreedy Bidder\n",
      "\t agent update: 2. DM (policy)\n"
     ]
    },
    {
     "name": "stderr",
     "output_type": "stream",
     "text": [
      "DM (policy) 2: 100%|██████████| 128/128 [00:00<00:00, 1096.60it/s]\n"
     ]
    },
    {
     "name": "stdout",
     "output_type": "stream",
     "text": [
      "AUC predicting P(win):\t\t\t\t 0.5833333333333334\n"
     ]
    },
    {
     "name": "stderr",
     "output_type": "stream",
     "text": [
      "DM (policy) 2: 100%|██████████| 128/128 [00:00<00:00, 361.76it/s]\n"
     ]
    },
    {
     "name": "stdout",
     "output_type": "stream",
     "text": [
      "\t agent update: 3. Shaded Bidder\n",
      "Iteration 86 of 100\n",
      "\teach agent's surplus: [0.0, 0.1775121385058787, 0.5924422487834026]\n",
      "\tsums to 0.7699543872892813\n",
      "\t agent update: 1. EpsilonGreedy Bidder\n",
      "\t agent update: 2. DM (policy)\n"
     ]
    },
    {
     "name": "stderr",
     "output_type": "stream",
     "text": [
      "DM (policy) 2: 100%|██████████| 128/128 [00:00<00:00, 1301.59it/s]\n"
     ]
    },
    {
     "name": "stdout",
     "output_type": "stream",
     "text": [
      "AUC predicting P(win):\t\t\t\t 0.875\n"
     ]
    },
    {
     "name": "stderr",
     "output_type": "stream",
     "text": [
      "DM (policy) 2: 100%|██████████| 128/128 [00:00<00:00, 390.87it/s]\n"
     ]
    },
    {
     "name": "stdout",
     "output_type": "stream",
     "text": [
      "\t agent update: 3. Shaded Bidder\n",
      "Iteration 87 of 100\n",
      "\teach agent's surplus: [0.0, 2.1899661408959332, 1.748264924156346]\n",
      "\tsums to 3.938231065052279\n",
      "\t agent update: 1. EpsilonGreedy Bidder\n",
      "\t agent update: 2. DM (policy)\n"
     ]
    },
    {
     "name": "stderr",
     "output_type": "stream",
     "text": [
      "DM (policy) 2: 100%|██████████| 128/128 [00:00<00:00, 1160.49it/s]\n"
     ]
    },
    {
     "name": "stdout",
     "output_type": "stream",
     "text": [
      "AUC predicting P(win):\t\t\t\t 0.7083333333333334\n"
     ]
    },
    {
     "name": "stderr",
     "output_type": "stream",
     "text": [
      "DM (policy) 2: 100%|██████████| 128/128 [00:00<00:00, 294.19it/s]\n"
     ]
    },
    {
     "name": "stdout",
     "output_type": "stream",
     "text": [
      "\t agent update: 3. Shaded Bidder\n",
      "Iteration 88 of 100\n",
      "\teach agent's surplus: [0.0, 0.061826309285132997, -0.052881671106765005]\n",
      "\tsums to 0.008944638178367992\n",
      "\t agent update: 1. EpsilonGreedy Bidder\n",
      "\t agent update: 2. DM (policy)\n"
     ]
    },
    {
     "name": "stderr",
     "output_type": "stream",
     "text": [
      "DM (policy) 2: 100%|██████████| 128/128 [00:00<00:00, 1341.59it/s]\n"
     ]
    },
    {
     "name": "stdout",
     "output_type": "stream",
     "text": [
      "AUC predicting P(win):\t\t\t\t 0.5714285714285714\n"
     ]
    },
    {
     "name": "stderr",
     "output_type": "stream",
     "text": [
      "DM (policy) 2: 100%|██████████| 128/128 [00:00<00:00, 363.79it/s]\n"
     ]
    },
    {
     "name": "stdout",
     "output_type": "stream",
     "text": [
      "\t agent update: 3. Shaded Bidder\n",
      "Iteration 89 of 100\n",
      "\teach agent's surplus: [0.0, 2.535304558166551, -0.7293273149292863]\n",
      "\tsums to 1.805977243237265\n",
      "\t agent update: 1. EpsilonGreedy Bidder\n",
      "\t agent update: 2. DM (policy)\n"
     ]
    },
    {
     "name": "stderr",
     "output_type": "stream",
     "text": [
      "DM (policy) 2: 100%|██████████| 128/128 [00:00<00:00, 1239.29it/s]\n"
     ]
    },
    {
     "name": "stdout",
     "output_type": "stream",
     "text": [
      "AUC predicting P(win):\t\t\t\t 0.75\n"
     ]
    },
    {
     "name": "stderr",
     "output_type": "stream",
     "text": [
      "DM (policy) 2: 100%|██████████| 128/128 [00:00<00:00, 399.89it/s]\n"
     ]
    },
    {
     "name": "stdout",
     "output_type": "stream",
     "text": [
      "\t agent update: 3. Shaded Bidder\n",
      "Iteration 90 of 100\n",
      "\teach agent's surplus: [0.0, 0.17495547845977122, 2.783275234326549]\n",
      "\tsums to 2.95823071278632\n",
      "\t agent update: 1. EpsilonGreedy Bidder\n",
      "\t agent update: 2. DM (policy)\n"
     ]
    },
    {
     "name": "stderr",
     "output_type": "stream",
     "text": [
      "DM (policy) 2: 100%|██████████| 128/128 [00:00<00:00, 796.90it/s]\n"
     ]
    },
    {
     "name": "stdout",
     "output_type": "stream",
     "text": [
      "AUC predicting P(win):\t\t\t\t 0.4\n"
     ]
    },
    {
     "name": "stderr",
     "output_type": "stream",
     "text": [
      "DM (policy) 2: 100%|██████████| 128/128 [00:00<00:00, 388.00it/s]\n"
     ]
    },
    {
     "name": "stdout",
     "output_type": "stream",
     "text": [
      "\t agent update: 3. Shaded Bidder\n",
      "Iteration 91 of 100\n",
      "\teach agent's surplus: [0.0, 0.6238938284580555, 1.4318466559131906]\n",
      "\tsums to 2.0557404843712463\n",
      "\t agent update: 1. EpsilonGreedy Bidder\n",
      "\t agent update: 2. DM (policy)\n"
     ]
    },
    {
     "name": "stderr",
     "output_type": "stream",
     "text": [
      "DM (policy) 2: 100%|██████████| 128/128 [00:00<00:00, 1315.63it/s]\n"
     ]
    },
    {
     "name": "stdout",
     "output_type": "stream",
     "text": [
      "AUC predicting P(win):\t\t\t\t 0.75\n"
     ]
    },
    {
     "name": "stderr",
     "output_type": "stream",
     "text": [
      "DM (policy) 2: 100%|██████████| 128/128 [00:00<00:00, 383.32it/s]\n"
     ]
    },
    {
     "name": "stdout",
     "output_type": "stream",
     "text": [
      "\t agent update: 3. Shaded Bidder\n",
      "Iteration 92 of 100\n",
      "\teach agent's surplus: [0.0, 1.0344770891300965, 1.5218052265605566]\n",
      "\tsums to 2.556282315690653\n",
      "\t agent update: 1. EpsilonGreedy Bidder\n",
      "\t agent update: 2. DM (policy)\n"
     ]
    },
    {
     "name": "stderr",
     "output_type": "stream",
     "text": [
      "DM (policy) 2: 100%|██████████| 128/128 [00:00<00:00, 1130.62it/s]\n"
     ]
    },
    {
     "name": "stdout",
     "output_type": "stream",
     "text": [
      "AUC predicting P(win):\t\t\t\t 0.43999999999999995\n"
     ]
    },
    {
     "name": "stderr",
     "output_type": "stream",
     "text": [
      "DM (policy) 2: 100%|██████████| 128/128 [00:00<00:00, 366.85it/s]\n"
     ]
    },
    {
     "name": "stdout",
     "output_type": "stream",
     "text": [
      "\t agent update: 3. Shaded Bidder\n",
      "Iteration 93 of 100\n",
      "\teach agent's surplus: [0.0, 0.6694557753599721, 1.2976892695542361]\n",
      "\tsums to 1.9671450449142083\n",
      "\t agent update: 1. EpsilonGreedy Bidder\n",
      "\t agent update: 2. DM (policy)\n"
     ]
    },
    {
     "name": "stderr",
     "output_type": "stream",
     "text": [
      "DM (policy) 2: 100%|██████████| 128/128 [00:00<00:00, 1101.40it/s]\n"
     ]
    },
    {
     "name": "stdout",
     "output_type": "stream",
     "text": [
      "AUC predicting P(win):\t\t\t\t 0.5833333333333334\n"
     ]
    },
    {
     "name": "stderr",
     "output_type": "stream",
     "text": [
      "DM (policy) 2: 100%|██████████| 128/128 [00:00<00:00, 391.02it/s]\n"
     ]
    },
    {
     "name": "stdout",
     "output_type": "stream",
     "text": [
      "\t agent update: 3. Shaded Bidder\n",
      "Iteration 94 of 100\n",
      "\teach agent's surplus: [0.0, -0.7398053785980638, 2.6588515477785393]\n",
      "\tsums to 1.9190461691804754\n",
      "\t agent update: 1. EpsilonGreedy Bidder\n",
      "\t agent update: 2. DM (policy)\n"
     ]
    },
    {
     "name": "stderr",
     "output_type": "stream",
     "text": [
      "DM (policy) 2: 100%|██████████| 128/128 [00:00<00:00, 1006.17it/s]\n"
     ]
    },
    {
     "name": "stdout",
     "output_type": "stream",
     "text": [
      "AUC predicting P(win):\t\t\t\t 0.6666666666666666\n"
     ]
    },
    {
     "name": "stderr",
     "output_type": "stream",
     "text": [
      "DM (policy) 2: 100%|██████████| 128/128 [00:00<00:00, 381.06it/s]\n"
     ]
    },
    {
     "name": "stdout",
     "output_type": "stream",
     "text": [
      "\t agent update: 3. Shaded Bidder\n",
      "Iteration 95 of 100\n",
      "\teach agent's surplus: [0.0, 1.2597516772266957, -0.3525366266791975]\n",
      "\tsums to 0.9072150505474982\n",
      "\t agent update: 1. EpsilonGreedy Bidder\n",
      "\t agent update: 2. DM (policy)\n"
     ]
    },
    {
     "name": "stderr",
     "output_type": "stream",
     "text": [
      "DM (policy) 2: 100%|██████████| 128/128 [00:00<00:00, 1369.61it/s]\n"
     ]
    },
    {
     "name": "stdout",
     "output_type": "stream",
     "text": [
      "AUC predicting P(win):\t\t\t\t 1.0\n"
     ]
    },
    {
     "name": "stderr",
     "output_type": "stream",
     "text": [
      "DM (policy) 2: 100%|██████████| 128/128 [00:00<00:00, 299.76it/s]\n"
     ]
    },
    {
     "name": "stdout",
     "output_type": "stream",
     "text": [
      "\t agent update: 3. Shaded Bidder\n",
      "Iteration 96 of 100\n",
      "\teach agent's surplus: [0.0, 1.1123679418772077, 0.4671562510622782]\n",
      "\tsums to 1.5795241929394859\n",
      "\t agent update: 1. EpsilonGreedy Bidder\n",
      "\t agent update: 2. DM (policy)\n"
     ]
    },
    {
     "name": "stderr",
     "output_type": "stream",
     "text": [
      "DM (policy) 2: 100%|██████████| 128/128 [00:00<00:00, 1343.00it/s]\n"
     ]
    },
    {
     "name": "stdout",
     "output_type": "stream",
     "text": [
      "AUC predicting P(win):\t\t\t\t 0.1111111111111111\n"
     ]
    },
    {
     "name": "stderr",
     "output_type": "stream",
     "text": [
      "DM (policy) 2: 100%|██████████| 128/128 [00:00<00:00, 404.36it/s]\n"
     ]
    },
    {
     "name": "stdout",
     "output_type": "stream",
     "text": [
      "\t agent update: 3. Shaded Bidder\n",
      "Iteration 97 of 100\n",
      "\teach agent's surplus: [0.0, 0.3941630051914715, 1.3918874311646394]\n",
      "\tsums to 1.786050436356111\n",
      "\t agent update: 1. EpsilonGreedy Bidder\n",
      "\t agent update: 2. DM (policy)\n"
     ]
    },
    {
     "name": "stderr",
     "output_type": "stream",
     "text": [
      "DM (policy) 2: 100%|██████████| 128/128 [00:00<00:00, 1308.54it/s]\n"
     ]
    },
    {
     "name": "stdout",
     "output_type": "stream",
     "text": [
      "AUC predicting P(win):\t\t\t\t 0.5\n"
     ]
    },
    {
     "name": "stderr",
     "output_type": "stream",
     "text": [
      "DM (policy) 2: 100%|██████████| 128/128 [00:00<00:00, 396.44it/s]\n"
     ]
    },
    {
     "name": "stdout",
     "output_type": "stream",
     "text": [
      "\t agent update: 3. Shaded Bidder\n",
      "Iteration 98 of 100\n",
      "\teach agent's surplus: [0.0, 0.0, 2.107634154936668]\n",
      "\tsums to 2.107634154936668\n",
      "\t agent update: 1. EpsilonGreedy Bidder\n",
      "\t agent update: 2. DM (policy)\n",
      "! Fallback for DM (policy) 2\n",
      "\t agent update: 3. Shaded Bidder\n",
      "Iteration 99 of 100\n",
      "\teach agent's surplus: [0.0, 0.719581746403652, 2.9434745920707877]\n",
      "\tsums to 3.6630563384744397\n",
      "\t agent update: 1. EpsilonGreedy Bidder\n",
      "\t agent update: 2. DM (policy)\n"
     ]
    },
    {
     "name": "stderr",
     "output_type": "stream",
     "text": [
      "DM (policy) 2: 100%|██████████| 128/128 [00:00<00:00, 747.48it/s]\n"
     ]
    },
    {
     "name": "stdout",
     "output_type": "stream",
     "text": [
      "AUC predicting P(win):\t\t\t\t 0.5416666666666667\n"
     ]
    },
    {
     "name": "stderr",
     "output_type": "stream",
     "text": [
      "DM (policy) 2: 100%|██████████| 128/128 [00:00<00:00, 383.40it/s]\n"
     ]
    },
    {
     "name": "stdout",
     "output_type": "stream",
     "text": [
      "\t agent update: 3. Shaded Bidder\n",
      "Iteration 100 of 100\n",
      "\teach agent's surplus: [0.0, 0.3115835615847452, 0.24038097334665848]\n",
      "\tsums to 0.5519645349314037\n",
      "\t agent update: 1. EpsilonGreedy Bidder\n",
      "\t agent update: 2. DM (policy)\n"
     ]
    },
    {
     "name": "stderr",
     "output_type": "stream",
     "text": [
      "DM (policy) 2: 100%|██████████| 128/128 [00:00<00:00, 1342.61it/s]\n"
     ]
    },
    {
     "name": "stdout",
     "output_type": "stream",
     "text": [
      "AUC predicting P(win):\t\t\t\t 0.875\n"
     ]
    },
    {
     "name": "stderr",
     "output_type": "stream",
     "text": [
      "DM (policy) 2: 100%|██████████| 128/128 [00:00<00:00, 400.54it/s]"
     ]
    },
    {
     "name": "stdout",
     "output_type": "stream",
     "text": [
      "\t agent update: 3. Shaded Bidder\n"
     ]
    },
    {
     "name": "stderr",
     "output_type": "stream",
     "text": [
      "\n"
     ]
    }
   ],
   "source": [
    "num_participants_2_metrics = run_repeated_auctions()\n",
    "# print(num_participants_2_metrics)"
   ]
  },
  {
   "cell_type": "code",
   "execution_count": 8,
   "id": "fb74d7e4",
   "metadata": {},
   "outputs": [
    {
     "name": "stdout",
     "output_type": "stream",
     "text": [
      "\t1. EpsilonGreedy Bidder surplus: -14.835129145008015\n",
      "\t2. DM (policy) surplus: 53.789416592553536\n",
      "\t3. Shaded Bidder surplus: 59.70786098806404\n"
     ]
    }
   ],
   "source": [
    "r, w, s, a_s = num_participants_2_metrics\n",
    "for i, agent in enumerate(a_s):\n",
    "    print(f'\\t{my_agents_names[i]} surplus: {np.array(agent).sum()}')\n"
   ]
  },
  {
   "cell_type": "code",
   "execution_count": 10,
   "id": "014bff5e",
   "metadata": {},
   "outputs": [
    {
     "data": {
      "image/png": "[encoded data removed]",
      "text/plain": [
       "<Figure size 2000x1200 with 2 Axes>"
      ]
     },
     "metadata": {},
     "output_type": "display_data"
    }
   ],
   "source": [
    "fontsize=16\n",
    "fig, axes = plt.subplots(2,1, sharey='row', figsize=(20,12))\n",
    "\n",
    "# for num_participants_per_round, (revenue, welfare, surplus) in num_participants_2_metrics.items():    \n",
    "#     axes[0].plot(welfare, label=f'{num_participants_per_round}')\n",
    "#     axes[1].plot(surplus, label=f'{num_participants_per_round}')\n",
    "#     axes[2].plot(revenue, label=f'{num_participants_per_round}')\n",
    "\n",
    "graph_auction_bench = axes[0]\n",
    "graph_surpluses = axes[1]\n",
    "\n",
    "revenue, welfare, agent, agents_surplus = num_participants_2_metrics   \n",
    "graph_auction_bench.plot(welfare, label=f'social welfare')\n",
    "graph_auction_bench.plot(agent, label=f'social surplus')\n",
    "graph_auction_bench.plot(revenue, label=f'auction revenue')\n",
    "\n",
    "for i, agent in enumerate(agents_surplus):\n",
    "    graph_surpluses.plot(agent, label=my_agents_names[i])\n",
    "\n",
    "\n",
    "graph_surpluses.set_title(graph_title, fontsize=fontsize+4)\n",
    "\n",
    "for i in range(len(axes)):\n",
    "    axes[i].set_xlabel('Iterations', fontsize=fontsize)\n",
    "    axes[i].set_xticks(list(range(0,len(revenue),2)))\n",
    "    axes[i].grid(True, 'major', 'y', ls='--', lw=.5, c='k', alpha=.3)\n",
    "\n",
    "    \n",
    "graph_auction_bench.set_ylabel('Auction Benchmarks', fontsize=fontsize)\n",
    "graph_surpluses.set_ylabel('Agents Surpluses Comparison', fontsize=fontsize)\n",
    "\n",
    "handles, labels = graph_auction_bench.get_legend_handles_labels()\n",
    "legend = graph_auction_bench.legend(reversed(handles),\n",
    "                   reversed(labels),\n",
    "                   loc='upper left',\n",
    "                   bbox_to_anchor=(1.0, 1.0),\n",
    "                   fontsize=fontsize)\n",
    "legend.set_title('# Bidders', prop={'size': fontsize})\n",
    "\n",
    "handles2, labels2 = graph_surpluses.get_legend_handles_labels()\n",
    "legend2 = graph_surpluses.legend(reversed(handles2),\n",
    "                         reversed(labels2),\n",
    "                         loc='upper left',\n",
    "                         bbox_to_anchor=(1.0, 1.0),\n",
    "                         fontsize=fontsize)\n",
    "\n",
    "fig.tight_layout()\n",
    "\n",
    "plt.show()"
   ]
  }
 ],
 "metadata": {
  "kernelspec": {
   "display_name": "Python 3 (ipykernel)",
   "language": "python",
   "name": "python3"
  },
  "language_info": {
   "codemirror_mode": {
    "name": "ipython",
    "version": 3
   },
   "file_extension": ".py",
   "mimetype": "text/x-python",
   "name": "python",
   "nbconvert_exporter": "python",
   "pygments_lexer": "ipython3",
   "version": "3.10.11"
  }
 },
 "nbformat": 4,
 "nbformat_minor": 5
}
