{
 "cells": [
  {
   "cell_type": "code",
   "execution_count": 1,
   "id": "8dac1ebf",
   "metadata": {},
   "outputs": [],
   "source": [
    "import matplotlib.pyplot as plt\n",
    "import numpy as np\n",
    "# from collections import defaultdict\n",
    "from main import parse_config, instantiate_agents, instantiate_auction, simulation_run\n",
    "# from tqdm.notebook import tqdm\n",
    "from tqdm.notebook import tqdm\n",
    "# from Bidder import *"
   ]
  },
  {
   "cell_type": "code",
   "execution_count": 2,
   "id": "b4c80200",
   "metadata": {},
   "outputs": [],
   "source": [
    "# config_file = '../config-mine/FP_Epsilon-average-out-results-test.json'\n",
    "# config_file = '../config-mine/FP_EpsilonGreedy.json'\n",
    "# config_file = '../config-mine/SP_UCB1.json'\n",
    "# config_file = '../config-mine/SP_Exp3-Truthful.json'\n",
    "# config_file = '../config-mine/FP_Exp3-Truthful.json'\n",
    "# config_file = '../config-mine/SP_Exp3.json'\n",
    "# config_file = '../config-mine/SP_EpsilonGreedy-Exp3-UCB1.json'\n",
    "# config_file = '../config-mine/FP_UCB1-BIGPR.json'\n",
    "# config_file = '../config-mine/FP_UCB1-Exp3.json'\n",
    "# config_file = '../config-mine/FP_Exp3.json'\n",
    "# config_file = '../config-mine/SP_Expert.json'\n",
    "\n",
    "# config_file = '../config-mine/SP_GPUCB-Exp3.json'\n",
    "# config_file = '../config-mine/SP_IGPR-Exp3.json'\n",
    "# config_file = '../config-mine/SP_warmGPR-Exp3.json'\n",
    "# config_file = '../config-mine/SP_warmGPR-UCB1.json'\n",
    "# config_file = '../config-mine/SP_warmGPR-IGPR.json'\n",
    "\n",
    "# config_file = '../config-mine/SP_BIGPR.json'\n",
    "# config_file = '../config-mine/SP_BIGPR-warmGPR.json'\n",
    "# config_file = '../config-mine/SP_BIGPR-Exp3.json'\n",
    "# config_file = '../config-mine/SP_BIGPR-Expert.json'\n",
    "# config_file = '../config-mine/SP_BIGPR-Exp3-Expert.json'\n",
    "\n",
    "# config_file = '../config-mine/SP_SAC-Exp3.json'\n",
    "# config_file = '../config-mine/SP_SB3-discr-vs-cont.json'\n",
    "\n",
    "# config_file = '../config-mine/SP_GPUCB-ctxt.json'\n",
    "# config_file = '../config-mine/SP_Expert-Exp3.json'\n",
    "# config_file = '../config-mine/SP_EpsilonGreedy-Exp3-ExpertKMeans.json'\n",
    "\n",
    "# config_file = '../config-mine/Novelty/SP_NoveltyNN-Exp3.json'\n",
    "# config_file = '../config-mine/Novelty/FP_NoveltyDirectSGD-Exp3.json'\n",
    "# config_file = '../config-mine/Novelty/FP_NoveltyDirectBIGPR-Exp3.json'\n",
    "# config_file = '../config-mine/Novelty/FP_NoveltySGD-NoveltyBIGPR-Exp3-Expert.json'\n",
    "\n",
    "# config_file = '../config-mine/SP_TruthfulBandit_gather_data.json'\n",
    "\n",
    "#static bidders config\n",
    "# config_file = '../config-mine/Static/FP_static_bidder.json'\n",
    "# config_file = '../config-mine/Static/FP_static-Expert.json'\n",
    "# config_file = '../config-mine/Static/FP_static-clairevoyant.json'\n",
    "config_file = '../config-mine/Static/FP_static-NoveltySGD.json'\n",
    "\n",
    "graph_title = config_file"
   ]
  },
  {
   "cell_type": "code",
   "execution_count": 3,
   "id": "a9b5f14c",
   "metadata": {},
   "outputs": [
    {
     "name": "stdout",
     "output_type": "stream",
     "text": [
      "--- Auction ---\n",
      "FirstPrice\n",
      "\n",
      "--- My Agents ---\n",
      "['1. Static Bidder 1', '2. Static Bidder 2', '3. Static Bidder 3', '4. Novelty Clairevoyant']\n",
      "\n",
      "--- Runs Number ---\n",
      "making 10 runs\n",
      "  for each, 100 iterations\n",
      "    for each, 10 episodes\n",
      "\t -> total: 10000\n"
     ]
    }
   ],
   "source": [
    "# Parse configuration file\n",
    "rng, config, agent_configs, agents2items, agents2item_values,\\\n",
    "num_runs, max_slots, embedding_size, embedding_var,\\\n",
    "obs_embedding_size = parse_config(config_file)\n",
    "\n",
    "num_iter = config['num_iter']\n",
    "\n",
    "print('--- Auction ---')\n",
    "print(config['allocation'])\n",
    "print()\n",
    "\n",
    "print('--- My Agents ---')\n",
    "my_agents_names = []\n",
    "iter=0\n",
    "for agent in config['agents']:\n",
    "    for copies in range(agent['num_copies']):\n",
    "        iter+=1\n",
    "        # my_agents_names.append(f'{i}.{agent[\"bidder\"][\"type\"]} ({agent[\"name\"]})')\n",
    "        my_agents_names.append(f'{iter}. {agent[\"name\"]}')\n",
    "        # print(f'{i}) {agent[\"bidder\"][\"type\"]}')\n",
    "print(my_agents_names)\n",
    "\n",
    "print()\n",
    "print('--- Runs Number ---')\n",
    "print(f\"making {config['num_runs']} runs\\n  for each, {config['num_iter']} iterations\\n    for each, {config['rounds_per_iter']} episodes\")\n",
    "print(f\"\\t -> total: {config['num_runs']*config['num_iter']*config['rounds_per_iter']}\")"
   ]
  },
  {
   "attachments": {},
   "cell_type": "markdown",
   "id": "745f77c6",
   "metadata": {},
   "source": [
    "#### taking first agent product and giving it to everybody\n",
    "\n",
    "##### while removing all other objects (oevrwriting the value in config)\n",
    "##### or giving all agents just one product"
   ]
  },
  {
   "cell_type": "code",
   "execution_count": 4,
   "id": "213a9e1c",
   "metadata": {},
   "outputs": [
    {
     "name": "stdout",
     "output_type": "stream",
     "text": [
      "[[ 0.12573022 -0.13210486  0.64042265  0.10490012 -0.53566937 -3.61538511]]  ->  [1.07712243]\n",
      "[[ 0.12573022 -0.13210486  0.64042265  0.10490012 -0.53566937 -3.61538511]]  ->  [1.07712243]\n",
      "[[ 0.12573022 -0.13210486  0.64042265  0.10490012 -0.53566937 -3.61538511]]  ->  [1.07712243]\n",
      "[[ 0.12573022 -0.13210486  0.64042265  0.10490012 -0.53566937 -3.61538511]]  ->  [1.07712243]\n"
     ]
    }
   ],
   "source": [
    "# agents products\n",
    "################################\n",
    "# ALL AGENTS SAME PRODUCT?\n",
    "ALL_AGENT_SAME_PRODUCT = True\n",
    "REDUCE_TO_ONE_PRODUCT = True\n",
    "\n",
    "agents_names = list(agents2items.keys())\n",
    "assert agents_names[0] == list(agents2item_values.keys())[0] \n",
    "obj_embed = [ agents2items[ agent_name ] [0] for agent_name in agents_names]\n",
    "obj_value = [ agents2item_values[ agent_name ] [0] for agent_name in agents_names]\n",
    "\n",
    "if ALL_AGENT_SAME_PRODUCT:\n",
    "    obj_embed = [ obj_embed[0] ] * len(obj_embed)\n",
    "    obj_value = [ obj_value[0] ] * len(obj_value)\n",
    "\n",
    "if REDUCE_TO_ONE_PRODUCT:\n",
    "    for iter,a in enumerate(agents_names):\n",
    "        agents2items[a] = np.array([obj_embed[iter]])\n",
    "        agents2item_values[a] = np.array([obj_value[iter]])\n",
    "\n",
    "# obj_embed, obj_value\n",
    "for agent_name in agents_names:\n",
    "    print(agents2items[agent_name], \" -> \", agents2item_values[agent_name])"
   ]
  },
  {
   "cell_type": "code",
   "execution_count": 5,
   "id": "1bb512d6",
   "metadata": {},
   "outputs": [],
   "source": [
    "def run_repeated_auctions(num_run, num_runs, results=None, debug=False):\n",
    "    # Placeholders for output\n",
    "    auction_revenue = []\n",
    "    social_welfare = []\n",
    "    advertisers_surplus = []\n",
    "    \n",
    "    # Instantiate Agent and Auction objects\n",
    "    agents = instantiate_agents(rng, agent_configs, agents2item_values, agents2items)\n",
    "    \n",
    "    agents_overall_surplus = [[] for _ in range(len(agents))]\n",
    "\n",
    "    agents_instant_surplus = [[] for _ in range(len(agents))]\n",
    "\n",
    "    agents_regret_history = [[] for _ in range(len(agents))] #TODO\n",
    "    agents_actionsrewards_history = [[] for _ in range(len(agents))] #TODO\n",
    "\n",
    "    ### SECONDARY OUTPUTS ###\n",
    "    agents_last_avg_utilities = [[] for _ in range(len(agents))]\n",
    "\n",
    "    agents_bids_log = []\n",
    "\n",
    "    # Instantiate Auction object\n",
    "    auction, num_iter, rounds_per_iter, output_dir =\\\n",
    "        instantiate_auction(rng,\n",
    "                            config,\n",
    "                            agents2items,\n",
    "                            agents2item_values,\n",
    "                            agents,\n",
    "                            max_slots,\n",
    "                            embedding_size,\n",
    "                            embedding_var,\n",
    "                            obs_embedding_size)\n",
    "    \n",
    "    # give bidder info about the auction type (2nd price, 1st price, etc.)\n",
    "    # to calculate REGRET IN HINDISGHT\n",
    "    from BidderBandits import BaseBidder\n",
    "    for iter, agent in enumerate(auction.agents):\n",
    "        if isinstance(agent.bidder, BaseBidder):\n",
    "            agent.bidder.auction_type = config['allocation']\n",
    "            agent.bidder.agent_id = iter\n",
    "            agent.bidder.num_iterations = num_iter\n",
    "            if num_run == 0: \n",
    "                if not agent.bidder.isContinuous:\n",
    "                    print('\\t', agent.name, ': ', agent.bidder.BIDS)\n",
    "                else:\n",
    "                    print('\\t', agent.name, ': ', agent.bidder.textContinuous)\n",
    "\n",
    "    if debug:\n",
    "        for agent in auction.agents:\n",
    "            print(agent.name, ': ', agent.bidder.auction_type, end=' | ')\n",
    "\n",
    "    # Run repeated auctions\n",
    "    # This logic is encoded in the `simulation_run()` method in main.py\n",
    "    # print(num_run, ') ', end='')\n",
    "    for iter in tqdm(range(num_iter), desc=f'{num_run+1}/{num_runs}', leave=True):\n",
    "        if debug:\n",
    "            print(f'Iteration {iter+1} of {num_iter}')\n",
    "\n",
    "        # Simulate impression opportunities\n",
    "        opportunities_results = []\n",
    "        for _ in range(rounds_per_iter):\n",
    "            opportunities_results.append( auction.simulate_opportunity() )\n",
    "\n",
    "        participating_agents_ids = np.array(np.array(opportunities_results)[:,0,:], dtype=np.int32)\n",
    "        iter_bids = np.array(np.array(opportunities_results)[:,1,:], dtype=np.float32)\n",
    "        \n",
    "        participating_agents_masks = [np.isin(participating_agents_ids, agent).any(axis=1) for agent in range(len(agents))]\n",
    "\n",
    "        sorted_bids_iter = np.sort(iter_bids, axis=1)\n",
    "        maximum_bids_iter = sorted_bids_iter[:,-1]\n",
    "        second_maximum_bids_iter = sorted_bids_iter[:,-2]\n",
    "\n",
    "        # Log 'Gross utility' or welfare\n",
    "        social_welfare.append(sum([agent.gross_utility for agent in auction.agents]))\n",
    "\n",
    "        # Log 'Net utility' or surplus\n",
    "        advertisers_surplus.append(sum([agent.net_utility for agent in auction.agents]))\n",
    "        for agent_id, agent in enumerate(auction.agents):\n",
    "            #surplus\n",
    "            agents_instant_surplus[agent_id].append(agent.net_utility)\n",
    "            agents_overall_surplus[agent_id].append(np.array(agents_instant_surplus[agent_id], dtype=object).sum())\n",
    "            \n",
    "            # winning bids\n",
    "            agent.bidder.winning_bids = maximum_bids_iter[participating_agents_masks[agent_id]]\n",
    "            agent.bidder.second_winning_bids = second_maximum_bids_iter[participating_agents_masks[agent_id]]\n",
    "\n",
    "        last_surplus = [surplus[-1] for surplus in agents_overall_surplus]\n",
    "        if debug:\n",
    "            print(f\"\\teach agent's surplus: {last_surplus}\")\n",
    "            print(f\"\\tsums to {np.array(last_surplus).sum()}\")\n",
    "        \n",
    "\n",
    "        # logging bids\n",
    "        agents_bids_log.extend( [ [agent.logs[j].bid for agent in agents]  for j in range(len(agent.logs)) ] )\n",
    "\n",
    "        # Update agents\n",
    "        # Clear running metrics\n",
    "        for agent_id, agent in enumerate(auction.agents):\n",
    "            if(len(agent.logs)>0):\n",
    "                if debug:\n",
    "                    print(f'\\t agent update: {my_agents_names[agent_id]}')\n",
    "                agent.update(iteration=iter)\n",
    "                # if i==num_iter-1:\n",
    "                #     agents_last_avg_utilities[agent_id].append(agent.bidder.expected_utilities)\n",
    "                agent.clear_utility()\n",
    "                agent.clear_logs()\n",
    "\n",
    "        # Log revenue\n",
    "        auction_revenue.append(auction.revenue)\n",
    "        auction.clear_revenue()\n",
    "    \n",
    "    # regret retrievement\n",
    "    for agent_id, agent in enumerate(auction.agents):\n",
    "        agents_regret_history[agent_id] = agent.bidder.regret\n",
    "        agents_actionsrewards_history[agent_id] = agent.bidder.actions_rewards\n",
    "        pass\n",
    "\n",
    "    # Rescale metrics per auction round\n",
    "    auction_revenue = np.array(auction_revenue, dtype=object) / rounds_per_iter\n",
    "    social_welfare = np.array(social_welfare, dtype=object) / rounds_per_iter\n",
    "    advertisers_surplus = np.array(advertisers_surplus, dtype=object) / rounds_per_iter\n",
    "\n",
    "    ### SECONDARY OUTPUTS ###\n",
    "    # secondary_outputs.append((agents_last_avg_utilities, [a.bidder.BIDS for a in auction.agents]))\n",
    "\n",
    "    if results is not None:\n",
    "        results[num_run] = (\n",
    "            auction_revenue, social_welfare, advertisers_surplus, \n",
    "            agents_overall_surplus, agents_instant_surplus, \n",
    "            agents_regret_history, agents_actionsrewards_history\n",
    "        )\n",
    "                    \n",
    "        \n",
    "    return auction_revenue, social_welfare, advertisers_surplus,\\\n",
    "            agents_overall_surplus, agents_instant_surplus,\\\n",
    "            agents_regret_history, agents_actionsrewards_history"
   ]
  },
  {
   "cell_type": "code",
   "execution_count": 6,
   "id": "8167efbc",
   "metadata": {},
   "outputs": [],
   "source": [
    "# INDEXES of the return\n",
    "idx_auction_rev = 0\n",
    "idx_social_welfare = 1\n",
    "idx_advertisers_surplus = 2\n",
    "idx_cumulative_surpluses = 3\n",
    "idx_instant_surpluses = 4\n",
    "idx_regrets = 5\n",
    "idx_actions_rewards = 6"
   ]
  },
  {
   "attachments": {},
   "cell_type": "markdown",
   "id": "ecd6a647",
   "metadata": {},
   "source": [
    "# RUN"
   ]
  },
  {
   "cell_type": "code",
   "execution_count": 7,
   "id": "4d841715",
   "metadata": {},
   "outputs": [
    {
     "name": "stdout",
     "output_type": "stream",
     "text": [
      "\t Static Bidder 1 1 :  [0.01 0.03 0.1  0.2  0.3  0.5  0.7  0.8  1.   1.1  1.4 ]\n",
      "\t Static Bidder 2 2 :  [0.01 0.03 0.1  0.2  0.3  0.5  0.7  0.8  1.   1.1  1.4 ]\n",
      "\t Static Bidder 3 3 :  [0.01 0.03 0.1  0.2  0.3  0.5  0.7  0.8  1.   1.1  1.4 ]\n",
      "\t Novelty Clairevoyant 4 :  [0.01 0.03 0.1  0.2  0.3  0.5  0.7  0.8  1.   1.1  1.4 ]\n"
     ]
    },
    {
     "data": {
      "application/json": {
       "ascii": false,
       "bar_format": null,
       "colour": null,
       "elapsed": 0.05661821365356445,
       "initial": 0,
       "n": 0,
       "ncols": null,
       "nrows": null,
       "postfix": null,
       "prefix": "1/10",
       "rate": null,
       "total": 100,
       "unit": "it",
       "unit_divisor": 1000,
       "unit_scale": false
      },
      "application/vnd.jupyter.widget-view+json": {
       "model_id": "f1845eb5f9b748208e35af097b30f708",
       "version_major": 2,
       "version_minor": 0
      },
      "text/plain": [
       "1/10:   0%|          | 0/100 [00:00<?, ?it/s]"
      ]
     },
     "metadata": {},
     "output_type": "display_data"
    },
    {
     "name": "stdout",
     "output_type": "stream",
     "text": [
      "Clairevoyant: training model\n",
      "Contexts amount: 1000\n",
      "Mkt_prices amount: 1000\n",
      "now\n",
      "over\n",
      "Saving model in c:\\Users\\bona1\\VSCode_projects\\auction-gym\\auction-gym\\src\\models\\clairevoyant\\20230905-1408.joblib\n"
     ]
    },
    {
     "data": {
      "application/json": {
       "ascii": false,
       "bar_format": null,
       "colour": null,
       "elapsed": 0.06826400756835938,
       "initial": 0,
       "n": 0,
       "ncols": null,
       "nrows": null,
       "postfix": null,
       "prefix": "2/10",
       "rate": null,
       "total": 100,
       "unit": "it",
       "unit_divisor": 1000,
       "unit_scale": false
      },
      "application/vnd.jupyter.widget-view+json": {
       "model_id": "fb8e9ab81e834e6e8a1a59e62d357b3c",
       "version_major": 2,
       "version_minor": 0
      },
      "text/plain": [
       "2/10:   0%|          | 0/100 [00:00<?, ?it/s]"
      ]
     },
     "metadata": {},
     "output_type": "display_data"
    },
    {
     "name": "stdout",
     "output_type": "stream",
     "text": [
      "Clairevoyant: training model\n",
      "Contexts amount: 1000\n",
      "Mkt_prices amount: 1000\n",
      "now\n",
      "over\n",
      "Saving model in c:\\Users\\bona1\\VSCode_projects\\auction-gym\\auction-gym\\src\\models\\clairevoyant\\20230905-1408.joblib\n"
     ]
    },
    {
     "data": {
      "application/json": {
       "ascii": false,
       "bar_format": null,
       "colour": null,
       "elapsed": 0.017993927001953125,
       "initial": 0,
       "n": 0,
       "ncols": null,
       "nrows": null,
       "postfix": null,
       "prefix": "3/10",
       "rate": null,
       "total": 100,
       "unit": "it",
       "unit_divisor": 1000,
       "unit_scale": false
      },
      "application/vnd.jupyter.widget-view+json": {
       "model_id": "dc1161eda4e54c52809fabd05afa9724",
       "version_major": 2,
       "version_minor": 0
      },
      "text/plain": [
       "3/10:   0%|          | 0/100 [00:00<?, ?it/s]"
      ]
     },
     "metadata": {},
     "output_type": "display_data"
    },
    {
     "name": "stdout",
     "output_type": "stream",
     "text": [
      "Clairevoyant: training model\n",
      "Contexts amount: 1000\n",
      "Mkt_prices amount: 1000\n",
      "now\n",
      "over\n",
      "Saving model in c:\\Users\\bona1\\VSCode_projects\\auction-gym\\auction-gym\\src\\models\\clairevoyant\\20230905-1408.joblib\n"
     ]
    },
    {
     "data": {
      "application/json": {
       "ascii": false,
       "bar_format": null,
       "colour": null,
       "elapsed": 0.022013425827026367,
       "initial": 0,
       "n": 0,
       "ncols": null,
       "nrows": null,
       "postfix": null,
       "prefix": "4/10",
       "rate": null,
       "total": 100,
       "unit": "it",
       "unit_divisor": 1000,
       "unit_scale": false
      },
      "application/vnd.jupyter.widget-view+json": {
       "model_id": "028d669ff48e43aca3b61e1b67c73e3a",
       "version_major": 2,
       "version_minor": 0
      },
      "text/plain": [
       "4/10:   0%|          | 0/100 [00:00<?, ?it/s]"
      ]
     },
     "metadata": {},
     "output_type": "display_data"
    },
    {
     "name": "stdout",
     "output_type": "stream",
     "text": [
      "Clairevoyant: training model\n",
      "Contexts amount: 1000\n",
      "Mkt_prices amount: 1000\n",
      "now\n",
      "over\n",
      "Saving model in c:\\Users\\bona1\\VSCode_projects\\auction-gym\\auction-gym\\src\\models\\clairevoyant\\20230905-1408.joblib\n"
     ]
    },
    {
     "data": {
      "application/json": {
       "ascii": false,
       "bar_format": null,
       "colour": null,
       "elapsed": 0.014042139053344727,
       "initial": 0,
       "n": 0,
       "ncols": null,
       "nrows": null,
       "postfix": null,
       "prefix": "5/10",
       "rate": null,
       "total": 100,
       "unit": "it",
       "unit_divisor": 1000,
       "unit_scale": false
      },
      "application/vnd.jupyter.widget-view+json": {
       "model_id": "500ffc88fd7d4f38a2c4a3913ff1d367",
       "version_major": 2,
       "version_minor": 0
      },
      "text/plain": [
       "5/10:   0%|          | 0/100 [00:00<?, ?it/s]"
      ]
     },
     "metadata": {},
     "output_type": "display_data"
    },
    {
     "name": "stdout",
     "output_type": "stream",
     "text": [
      "Clairevoyant: training model\n",
      "Contexts amount: 1000\n",
      "Mkt_prices amount: 1000\n",
      "now\n",
      "over\n",
      "Saving model in c:\\Users\\bona1\\VSCode_projects\\auction-gym\\auction-gym\\src\\models\\clairevoyant\\20230905-1408.joblib\n"
     ]
    },
    {
     "data": {
      "application/json": {
       "ascii": false,
       "bar_format": null,
       "colour": null,
       "elapsed": 0.015038013458251953,
       "initial": 0,
       "n": 0,
       "ncols": null,
       "nrows": null,
       "postfix": null,
       "prefix": "6/10",
       "rate": null,
       "total": 100,
       "unit": "it",
       "unit_divisor": 1000,
       "unit_scale": false
      },
      "application/vnd.jupyter.widget-view+json": {
       "model_id": "e26561cd70dc422f996d475eacd128cf",
       "version_major": 2,
       "version_minor": 0
      },
      "text/plain": [
       "6/10:   0%|          | 0/100 [00:00<?, ?it/s]"
      ]
     },
     "metadata": {},
     "output_type": "display_data"
    },
    {
     "name": "stdout",
     "output_type": "stream",
     "text": [
      "Clairevoyant: training model\n",
      "Contexts amount: 1000\n",
      "Mkt_prices amount: 1000\n",
      "now\n",
      "over\n",
      "Saving model in c:\\Users\\bona1\\VSCode_projects\\auction-gym\\auction-gym\\src\\models\\clairevoyant\\20230905-1408.joblib\n"
     ]
    },
    {
     "data": {
      "application/json": {
       "ascii": false,
       "bar_format": null,
       "colour": null,
       "elapsed": 0.014007091522216797,
       "initial": 0,
       "n": 0,
       "ncols": null,
       "nrows": null,
       "postfix": null,
       "prefix": "7/10",
       "rate": null,
       "total": 100,
       "unit": "it",
       "unit_divisor": 1000,
       "unit_scale": false
      },
      "application/vnd.jupyter.widget-view+json": {
       "model_id": "e56c5bad18514bc38046ef7f56ab774c",
       "version_major": 2,
       "version_minor": 0
      },
      "text/plain": [
       "7/10:   0%|          | 0/100 [00:00<?, ?it/s]"
      ]
     },
     "metadata": {},
     "output_type": "display_data"
    },
    {
     "name": "stdout",
     "output_type": "stream",
     "text": [
      "Clairevoyant: training model\n",
      "Contexts amount: 1000\n",
      "Mkt_prices amount: 1000\n",
      "now\n",
      "over\n",
      "Saving model in c:\\Users\\bona1\\VSCode_projects\\auction-gym\\auction-gym\\src\\models\\clairevoyant\\20230905-1409.joblib\n"
     ]
    },
    {
     "data": {
      "application/json": {
       "ascii": false,
       "bar_format": null,
       "colour": null,
       "elapsed": 0.016004562377929688,
       "initial": 0,
       "n": 0,
       "ncols": null,
       "nrows": null,
       "postfix": null,
       "prefix": "8/10",
       "rate": null,
       "total": 100,
       "unit": "it",
       "unit_divisor": 1000,
       "unit_scale": false
      },
      "application/vnd.jupyter.widget-view+json": {
       "model_id": "34fbccb6c38d46169820a6af6d434793",
       "version_major": 2,
       "version_minor": 0
      },
      "text/plain": [
       "8/10:   0%|          | 0/100 [00:00<?, ?it/s]"
      ]
     },
     "metadata": {},
     "output_type": "display_data"
    },
    {
     "name": "stdout",
     "output_type": "stream",
     "text": [
      "Clairevoyant: training model\n",
      "Contexts amount: 1000\n",
      "Mkt_prices amount: 1000\n",
      "now\n",
      "over\n",
      "Saving model in c:\\Users\\bona1\\VSCode_projects\\auction-gym\\auction-gym\\src\\models\\clairevoyant\\20230905-1409.joblib\n"
     ]
    },
    {
     "data": {
      "application/json": {
       "ascii": false,
       "bar_format": null,
       "colour": null,
       "elapsed": 0.020412921905517578,
       "initial": 0,
       "n": 0,
       "ncols": null,
       "nrows": null,
       "postfix": null,
       "prefix": "9/10",
       "rate": null,
       "total": 100,
       "unit": "it",
       "unit_divisor": 1000,
       "unit_scale": false
      },
      "application/vnd.jupyter.widget-view+json": {
       "model_id": "c26db324a66a44d6ba633e8f089f6c4b",
       "version_major": 2,
       "version_minor": 0
      },
      "text/plain": [
       "9/10:   0%|          | 0/100 [00:00<?, ?it/s]"
      ]
     },
     "metadata": {},
     "output_type": "display_data"
    },
    {
     "name": "stdout",
     "output_type": "stream",
     "text": [
      "Clairevoyant: training model\n",
      "Contexts amount: 1000\n",
      "Mkt_prices amount: 1000\n",
      "now\n",
      "over\n",
      "Saving model in c:\\Users\\bona1\\VSCode_projects\\auction-gym\\auction-gym\\src\\models\\clairevoyant\\20230905-1409.joblib\n"
     ]
    },
    {
     "data": {
      "application/json": {
       "ascii": false,
       "bar_format": null,
       "colour": null,
       "elapsed": 0.019049406051635742,
       "initial": 0,
       "n": 0,
       "ncols": null,
       "nrows": null,
       "postfix": null,
       "prefix": "10/10",
       "rate": null,
       "total": 100,
       "unit": "it",
       "unit_divisor": 1000,
       "unit_scale": false
      },
      "application/vnd.jupyter.widget-view+json": {
       "model_id": "b239987bd0df4e2db559b7c211ab8ea0",
       "version_major": 2,
       "version_minor": 0
      },
      "text/plain": [
       "10/10:   0%|          | 0/100 [00:00<?, ?it/s]"
      ]
     },
     "metadata": {},
     "output_type": "display_data"
    },
    {
     "name": "stdout",
     "output_type": "stream",
     "text": [
      "Clairevoyant: training model\n",
      "Contexts amount: 1000\n",
      "Mkt_prices amount: 1000\n",
      "now\n",
      "over\n",
      "Saving model in c:\\Users\\bona1\\VSCode_projects\\auction-gym\\auction-gym\\src\\models\\clairevoyant\\20230905-1409.joblib\n"
     ]
    }
   ],
   "source": [
    "secondary_outputs = []\n",
    "debug=False\n",
    "\n",
    "runs_results = [None for _ in range(num_runs)]\n",
    "\n",
    "res = [run_repeated_auctions(i, num_runs, runs_results, debug) for i in range(num_runs)]\n",
    "# print(runs_results.shape)"
   ]
  },
  {
   "cell_type": "code",
   "execution_count": null,
   "id": "31e54125",
   "metadata": {
    "tags": []
   },
   "outputs": [],
   "source": [
    "'''\n",
    "# from threading import Thread\n",
    "\n",
    "# secondary_outputs = []\n",
    "# debug=False\n",
    "\n",
    "# runs_results = [None for _ in range(num_runs)]\n",
    "# threads = [Thread(target=run_repeated_auctions, args=(i, num_runs, runs_results, debug)) for i in range(num_runs)]\n",
    "\n",
    "# n_prox = 1 #num_runs\n",
    "\n",
    "# i=0\n",
    "# j=0\n",
    "# while i < num_runs:\n",
    "#     # print(i,' &&& ',j)\n",
    "#     for j in range(n_prox):\n",
    "#         if i+j >= len(threads):\n",
    "#             break\n",
    "#         threads[i+j].start()\n",
    "        \n",
    "#     for j in range(n_prox):\n",
    "#         if i+j >= len(threads):\n",
    "#             break\n",
    "#         threads[i+j].join()\n",
    "    \n",
    "#     i+=n_prox\n",
    "\n",
    "#     # runs_results.append(run_repeated_auctions(num_run=i, num_runs=num_runs, debug=debug))\n",
    "# # [run_repeated_auctions(num_run=i+1, num_runs=num_runs, debug=debug) for i in range(num_runs)]\n",
    "# # print(num_participants_2_metrics)\n",
    "'''"
   ]
  },
  {
   "attachments": {},
   "cell_type": "markdown",
   "id": "96eda7a7",
   "metadata": {},
   "source": [
    "### print surpluses - for each run"
   ]
  },
  {
   "cell_type": "code",
   "execution_count": null,
   "id": "fb74d7e4",
   "metadata": {},
   "outputs": [],
   "source": [
    "print(my_agents_names)\n",
    "total_surpluses = [[] for _ in range(len(my_agents_names))]\n",
    "\n",
    "np.set_printoptions(precision=2, floatmode='fixed', sign=' ')\n",
    "\n",
    "for h, run in enumerate(runs_results):\n",
    "    a_s = run[idx_cumulative_surpluses]\n",
    "    i_s = run[idx_instant_surpluses]\n",
    "    cumulatives = [np.float32(s[-1]).round(2) for s in  a_s]\n",
    "    surpluses = np.array([np.array(surp).sum().round(2) for surp in i_s], dtype=object)\n",
    "    for iter in range(len(i_s)):\n",
    "        total_surpluses[iter].append(surpluses[iter])\n",
    "\n",
    "    print_surpluses = ' '.join('{:7.2f}'.format(x) for x in surpluses)\n",
    "    print_cumulatives = ' '.join('{:7.2f}'.format(x) for x in cumulatives)\n",
    "    print(f'Run {h+1:=2}/{num_runs} -> surpluses: {print_surpluses}     |     last cumulative {print_cumulatives}')\n",
    "\n",
    "# overall\n",
    "total_surpluses = np.array( [np.array(x).mean() for x in total_surpluses] )\n",
    "print_overall = ' '.join('{:7.2f}'.format(np.array(x).mean()) for x in total_surpluses)\n",
    "print('\\n     PER-RUN AVERAGE: ', '[' + (print_overall) + ']')"
   ]
  },
  {
   "cell_type": "markdown",
   "id": "8f89ca13",
   "metadata": {},
   "source": [
    "### print regrets"
   ]
  },
  {
   "cell_type": "code",
   "execution_count": null,
   "id": "76b70807",
   "metadata": {},
   "outputs": [],
   "source": [
    "print(my_agents_names)\n",
    "\n",
    "regrets = np.array([run[idx_regrets] for run in runs_results])\n",
    "\n",
    "print(regrets[:,0,:].shape)\n",
    "\n",
    "for h, run in enumerate(runs_results):\n",
    "    reg = run[idx_regrets]\n",
    "    # print(reg[0])\n",
    "    # print(reg[1])\n",
    "    reg = np.array([np.array(r).sum() for r in reg])\n",
    "    print_regrets = ' '.join('\\t{:10.2f}'.format(x) for x in reg)\n",
    "    print(f'Run {h+1:=2}/{num_runs} -> regrets: {print_regrets}')"
   ]
  },
  {
   "attachments": {},
   "cell_type": "markdown",
   "id": "719bd7de",
   "metadata": {},
   "source": [
    "### print average actions, rewards"
   ]
  },
  {
   "cell_type": "code",
   "execution_count": null,
   "id": "82e3dd2f",
   "metadata": {},
   "outputs": [],
   "source": [
    "# NB DOESNT WORK WHEN num_participants < num_agents, only when equal\n",
    "\n",
    "print(my_agents_names)\n",
    "num_agents = len(my_agents_names)\n",
    "num_participants_per_round = config[\"num_participants_per_round\"]\n",
    "\n",
    "actions_rewards = [[] for _ in range(len(my_agents_names))]\n",
    "\n",
    "for h, run in enumerate(runs_results):\n",
    "    # r, w, s, a_s, i_s = run\n",
    "    a_r = run[idx_actions_rewards]\n",
    "    for iter in range(len(a_r)):\n",
    "        actions_rewards[iter].extend(a_r[iter])\n",
    "\n",
    "ar = np.array(actions_rewards, dtype=object)\n",
    "\n",
    "if num_participants_per_round == num_agents:\n",
    "    avg_ar = np.mean(np.reshape(ar, (ar.shape[0], -1, ar.shape[3])), axis=1)\n",
    "    avg_ar = avg_ar.astype(np.float32).round(2)\n",
    "    avg_ar = avg_ar.transpose(1,0)\n",
    "    print(\"avg actions: \", end=\"\\t\")\n",
    "    print(avg_ar[0])\n",
    "    print(\"avg rewards: \", end=\"\\t\")\n",
    "    print(avg_ar[1])\n",
    "\n",
    "else:\n",
    "    for iter in range(len(actions_rewards)):\n",
    "        actions_rewards[iter] = [ np.mean(actions_rewards[iter][j], axis=0)   for j in range(len(actions_rewards[iter])) ]\n",
    "    avg_ar = np.array(actions_rewards, dtype=object).mean(axis=1)\n",
    "    avg_ar = avg_ar.astype(np.float32).round(2)\n",
    "    print()\n",
    "    for iter in range(len(avg_ar)):\n",
    "        print(my_agents_names[iter], \"->\\tavg bid:\", avg_ar[iter][0], \"\\t  avg reward:\", avg_ar[iter][1])"
   ]
  },
  {
   "attachments": {},
   "cell_type": "markdown",
   "id": "cc40af37",
   "metadata": {},
   "source": [
    "### print graphs"
   ]
  },
  {
   "cell_type": "code",
   "execution_count": null,
   "id": "7988a14d",
   "metadata": {},
   "outputs": [],
   "source": [
    "fontsize = 16\n",
    "subplot_num = 3\n",
    "\n",
    "def construct_graph(data, graph, xlabel, ylabel, insert_labels=False, fontsize=fontsize):\n",
    "    # data = np.array([x[index] for x in num_participants_2_metrics]).squeeze().transpose(1,0,2)\n",
    "\n",
    "    y_err = []\n",
    "    for i, agent in enumerate(data):\n",
    "        y_err.append(agent.std(axis=0) * np.sqrt(num_runs))\n",
    "        # data[i] = d.mean(axis=0)      # WHY TO DO THAT\n",
    "\n",
    "    y = []\n",
    "    for i, agent in enumerate(data):\n",
    "        y.append(agent.mean(axis=0))\n",
    "\n",
    "    for i, agent in enumerate(y):\n",
    "        graph.plot(agent, label=my_agents_names[i])\n",
    "        graph.fill_between(range(len(agent)), agent-y_err[i], agent+y_err[i], alpha=0.2)\n",
    "\n",
    "    graph.set_xlabel(xlabel, fontsize=fontsize)\n",
    "    graph.set_ylabel(ylabel, fontsize=fontsize)\n",
    "    graph.set_xticks(list(range(0,num_iter,25)))\n",
    "    graph.grid(True, 'major', 'y', ls='--', lw=.5, c='k', alpha=.3)\n",
    "    graph.axhline(0, color='black', lw=1.25, alpha=.4)\n",
    "\n",
    "    if insert_labels:\n",
    "        handles, labels = graph.get_legend_handles_labels()\n",
    "        legend = graph.legend(reversed(handles),\n",
    "                                reversed(labels),\n",
    "                                loc='upper left',\n",
    "                                bbox_to_anchor=(1.0, 1.0),\n",
    "                                fontsize=fontsize)\n",
    "\n",
    "def show_graph(runs_results):\n",
    "    # fig, axes = plt.subplots(subplot_num,1, sharey='row', figsize=(30,10*subplot_num))\n",
    "    fig = plt.gcf()\n",
    "    fig.set_size_inches(20,6*subplot_num)\n",
    "    fig.sharey = 'all'\n",
    "    gs = fig.add_gridspec(3, 2)\n",
    "\n",
    "\n",
    "    graph_cumulative_surpluses = fig.add_subplot(gs[0:1, 0:2])\n",
    "    graph_cumulative_regrets = fig.add_subplot(gs[1:2, 0:2])\n",
    "    graph_instant_surpluses = fig.add_subplot(gs[2:3, 0:1])\n",
    "    graph_regrets_hindsight = fig.add_subplot(gs[2:3, 1:2])\n",
    "\n",
    "    graph_cumulative_surpluses.set_title(graph_title, fontsize=fontsize+4)\n",
    "\n",
    "    # revenue, welfare, agent, agents_surplus = num_participants_2_metrics \n",
    "\n",
    "    #cumulative surpluses\n",
    "    cumulative_surpluses = np.array([x[idx_cumulative_surpluses] for x in runs_results]).squeeze().transpose(1,0,2)\n",
    "    instant_surpluses = np.array([x[idx_instant_surpluses] for x in runs_results]).squeeze().transpose(1,0,2)\n",
    "    instant_regrets = np.array([x[idx_regrets] for x in runs_results]).squeeze().transpose(1,0,2)\n",
    "    construct_graph(cumulative_surpluses, graph_cumulative_surpluses, '', 'Cumulative Surplus', insert_labels=True, fontsize=fontsize)\n",
    "    construct_graph(instant_surpluses, graph_instant_surpluses, '', 'Instant Surplus', insert_labels=False, fontsize=fontsize)\n",
    "    construct_graph(instant_regrets, graph_regrets_hindsight, '', 'Instant Regret in Hindsight', insert_labels=True, fontsize=fontsize)\n",
    "\n",
    "    #cumulative regrets\n",
    "    regrets_cumul = np.zeros_like(instant_regrets)\n",
    "    for i in range(instant_regrets.shape[0]):\n",
    "        for j in range(instant_regrets.shape[1]):\n",
    "            regrets_cumul[i][j] = np.array([instant_regrets[i][j][:h+1].sum() for h in range(instant_regrets.shape[2])])\n",
    "    construct_graph(regrets_cumul, graph_cumulative_regrets, '', 'Cumulative Regret in Hindsight', insert_labels=True, fontsize=fontsize)\n",
    "\n",
    "\n",
    "    fig.tight_layout()\n",
    "\n",
    "    plt.show()"
   ]
  },
  {
   "cell_type": "code",
   "execution_count": null,
   "id": "ebeb6049",
   "metadata": {},
   "outputs": [],
   "source": [
    "%matplotlib inline\n",
    "\n",
    "show_graph(runs_results)"
   ]
  },
  {
   "cell_type": "code",
   "execution_count": null,
   "id": "d7715712",
   "metadata": {},
   "outputs": [],
   "source": [
    "# %matplotlib qt\n",
    "\n",
    "# show_graph(runs_results)"
   ]
  }
 ],
 "metadata": {
  "kernelspec": {
   "display_name": "Python 3 (ipykernel)",
   "language": "python",
   "name": "python3"
  },
  "language_info": {
   "codemirror_mode": {
    "name": "ipython",
    "version": 3
   },
   "file_extension": ".py",
   "mimetype": "text/x-python",
   "name": "python",
   "nbconvert_exporter": "python",
   "pygments_lexer": "ipython3",
   "version": "3.10.11"
  }
 },
 "nbformat": 4,
 "nbformat_minor": 5
}
